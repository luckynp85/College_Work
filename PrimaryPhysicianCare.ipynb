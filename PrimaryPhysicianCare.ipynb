{
 "cells": [
  {
   "cell_type": "code",
   "execution_count": 5,
   "metadata": {},
   "outputs": [],
   "source": [
    "import pandas as pd\n",
    "import numpy as np\n",
    "import seaborn as sns\n",
    "import matplotlib.pyplot as plt\n",
    "from collections import Counter\n",
    "from scipy.stats import boxcox\n",
    "from sklearn.preprocessing import KBinsDiscretizer, MinMaxScaler\n",
    "from imblearn.pipeline import Pipeline\n",
    "from imblearn.over_sampling import SMOTE\n",
    "from imblearn.under_sampling import RandomUnderSampler\n",
    "from sklearn.feature_selection import SelectKBest,chi2, SelectFromModel\n",
    "from sklearn.model_selection import train_test_split, cross_val_score, GridSearchCV\n",
    "from sklearn.model_selection import KFold, StratifiedKFold, RepeatedStratifiedKFold\n",
    "from sklearn.metrics import fbeta_score\n",
    "from sklearn.metrics import classification_report\n",
    "from sklearn.metrics import confusion_matrix\n",
    "from sklearn.metrics import accuracy_score\n",
    "from sklearn.metrics import roc_curve, roc_auc_score, precision_score, recall_score, precision_recall_curve\n",
    "from sklearn.linear_model import LogisticRegression\n",
    "from sklearn.tree import DecisionTreeClassifier\n",
    "from sklearn.neighbors import KNeighborsClassifier\n",
    "from sklearn.naive_bayes import BernoulliNB\n",
    "from sklearn.naive_bayes import GaussianNB\n",
    "from sklearn.svm import SVC\n",
    "from sklearn.svm import LinearSVC"
   ]
  },
  {
   "cell_type": "markdown",
   "metadata": {},
   "source": [
    "## 1. Reading and understanding the data."
   ]
  },
  {
   "cell_type": "code",
   "execution_count": 6,
   "metadata": {},
   "outputs": [],
   "source": [
    "# Creating function to display shape and columns in the dataset\n",
    "\n",
    "def displaycolumns(data):\n",
    "    column_list = []\n",
    "    for col in data.columns:\n",
    "        column_list.append(col)\n",
    "    print(f\"The dimensions of the dataset: {data.shape}\")\n",
    "    print(f\"The columns in the dataset: {column_list}\")"
   ]
  },
  {
   "cell_type": "markdown",
   "metadata": {},
   "source": [
    "### Loading data"
   ]
  },
  {
   "cell_type": "code",
   "execution_count": 7,
   "metadata": {},
   "outputs": [
    {
     "name": "stdout",
     "output_type": "stream",
     "text": [
      "The dimensions of the dataset: (3130, 13)\n",
      "The columns in the dataset: ['outcome', 'distance', 'visit_count', 'claims_daysaway', 'tier', 'fqhc', 'pcp_lookback', 'family_assignment', 'kid', 'is_ped', 'same_gender', 'same_language', 'same_address']\n"
     ]
    }
   ],
   "source": [
    "# Reading the data and understanding the shape, columns and top datasets.\n",
    "\n",
    "data_raw = pd.read_csv(\"DataSet_PCP_Change.csv\", index_col = \"testindex\")\n",
    "\n",
    "displaycolumns(data_raw)"
   ]
  },
  {
   "cell_type": "code",
   "execution_count": 8,
   "metadata": {},
   "outputs": [
    {
     "name": "stdout",
     "output_type": "stream",
     "text": [
      "<class 'pandas.core.frame.DataFrame'>\n",
      "Int64Index: 3130 entries, 0 to 5000\n",
      "Data columns (total 13 columns):\n",
      " #   Column             Non-Null Count  Dtype  \n",
      "---  ------             --------------  -----  \n",
      " 0   outcome            3130 non-null   int64  \n",
      " 1   distance           3130 non-null   float64\n",
      " 2   visit_count        3130 non-null   int64  \n",
      " 3   claims_daysaway    556 non-null    float64\n",
      " 4   tier               3121 non-null   float64\n",
      " 5   fqhc               3130 non-null   int64  \n",
      " 6   pcp_lookback       3130 non-null   int64  \n",
      " 7   family_assignment  3130 non-null   int64  \n",
      " 8   kid                3130 non-null   int64  \n",
      " 9   is_ped             3130 non-null   int64  \n",
      " 10  same_gender        3130 non-null   int64  \n",
      " 11  same_language      3130 non-null   int64  \n",
      " 12  same_address       3130 non-null   int64  \n",
      "dtypes: float64(3), int64(10)\n",
      "memory usage: 342.3 KB\n"
     ]
    }
   ],
   "source": [
    "data_raw.info()"
   ]
  },
  {
   "cell_type": "markdown",
   "metadata": {},
   "source": [
    "##### Observations - \n",
    "        1. The dataset has 3130 entries of 13 attributes (including response - \"outcome\").\n",
    "        2. Information analysis above shows that \"claims_daysaway\" (556 entries) and \"tier\" (3121 entries) are the attributes with missing data."
   ]
  },
  {
   "cell_type": "markdown",
   "metadata": {},
   "source": [
    "### Data Quality - Missing data identification and imputation"
   ]
  },
  {
   "cell_type": "code",
   "execution_count": 9,
   "metadata": {},
   "outputs": [
    {
     "name": "stdout",
     "output_type": "stream",
     "text": [
      "outcome                 0\n",
      "distance                0\n",
      "visit_count             0\n",
      "claims_daysaway      2574\n",
      "tier                    9\n",
      "fqhc                    0\n",
      "pcp_lookback            0\n",
      "family_assignment       0\n",
      "kid                     0\n",
      "is_ped                  0\n",
      "same_gender             0\n",
      "same_language           0\n",
      "same_address            0\n",
      "dtype: int64\n"
     ]
    }
   ],
   "source": [
    "# Getting the number and % of missing values for \"claims_daysaway\" and \"tier\" attributes.\n",
    "\n",
    "print(data_raw.isnull().sum())"
   ]
  },
  {
   "cell_type": "code",
   "execution_count": 10,
   "metadata": {},
   "outputs": [
    {
     "name": "stdout",
     "output_type": "stream",
     "text": [
      "The 'outcome' attribute has 0.0 % missing data.\n",
      "The 'distance' attribute has 0.0 % missing data.\n",
      "The 'visit_count' attribute has 0.0 % missing data.\n",
      "The 'claims_daysaway' attribute has 82.24 % missing data.\n",
      "The 'tier' attribute has 0.29 % missing data.\n",
      "The 'fqhc' attribute has 0.0 % missing data.\n",
      "The 'pcp_lookback' attribute has 0.0 % missing data.\n",
      "The 'family_assignment' attribute has 0.0 % missing data.\n",
      "The 'kid' attribute has 0.0 % missing data.\n",
      "The 'is_ped' attribute has 0.0 % missing data.\n",
      "The 'same_gender' attribute has 0.0 % missing data.\n",
      "The 'same_language' attribute has 0.0 % missing data.\n",
      "The 'same_address' attribute has 0.0 % missing data.\n"
     ]
    }
   ],
   "source": [
    "for col in data_raw.columns:\n",
    "    per_missing = round((data_raw[col].isnull().sum()/len(data_raw))*100, 2)\n",
    "    print(f\"The '{col}' attribute has {per_missing} % missing data.\")"
   ]
  },
  {
   "cell_type": "markdown",
   "metadata": {},
   "source": [
    "##### Since \"claims_daysaway\" has ~82 % missing  data, so this attribute will be dropped for further analysis. However, the \"tier\" attribute, which a categorical variable, has only 0.29 % missing data and thus will be considered with \"mode imputation\" method to replace the missing information."
   ]
  },
  {
   "cell_type": "code",
   "execution_count": 11,
   "metadata": {},
   "outputs": [
    {
     "name": "stdout",
     "output_type": "stream",
     "text": [
      "The dimensions of the dataset: (3130, 12)\n",
      "The columns in the dataset: ['outcome', 'distance', 'visit_count', 'tier', 'fqhc', 'pcp_lookback', 'family_assignment', 'kid', 'is_ped', 'same_gender', 'same_language', 'same_address']\n"
     ]
    }
   ],
   "source": [
    "data = data_raw.drop([\"claims_daysaway\"], axis = 1)\n",
    "data[\"tier\"] = data[\"tier\"].fillna(data[\"tier\"].mode()[0])\n",
    "\n",
    "displaycolumns(data)"
   ]
  },
  {
   "cell_type": "code",
   "execution_count": 12,
   "metadata": {},
   "outputs": [
    {
     "name": "stdout",
     "output_type": "stream",
     "text": [
      "<class 'pandas.core.frame.DataFrame'>\n",
      "Int64Index: 3130 entries, 0 to 5000\n",
      "Data columns (total 12 columns):\n",
      " #   Column             Non-Null Count  Dtype  \n",
      "---  ------             --------------  -----  \n",
      " 0   outcome            3130 non-null   int64  \n",
      " 1   distance           3130 non-null   float64\n",
      " 2   visit_count        3130 non-null   int64  \n",
      " 3   tier               3130 non-null   float64\n",
      " 4   fqhc               3130 non-null   int64  \n",
      " 5   pcp_lookback       3130 non-null   int64  \n",
      " 6   family_assignment  3130 non-null   int64  \n",
      " 7   kid                3130 non-null   int64  \n",
      " 8   is_ped             3130 non-null   int64  \n",
      " 9   same_gender        3130 non-null   int64  \n",
      " 10  same_language      3130 non-null   int64  \n",
      " 11  same_address       3130 non-null   int64  \n",
      "dtypes: float64(2), int64(10)\n",
      "memory usage: 317.9 KB\n"
     ]
    }
   ],
   "source": [
    "data.info()"
   ]
  },
  {
   "cell_type": "markdown",
   "metadata": {},
   "source": [
    "## 2. Data preprocessing."
   ]
  },
  {
   "cell_type": "code",
   "execution_count": 13,
   "metadata": {},
   "outputs": [
    {
     "name": "stdout",
     "output_type": "stream",
     "text": [
      "          Column_Name  Num_Unique\n",
      "0             outcome           2\n",
      "4                fqhc           2\n",
      "5        pcp_lookback           2\n",
      "6   family_assignment           2\n",
      "7                 kid           2\n",
      "8              is_ped           2\n",
      "9         same_gender           2\n",
      "10      same_language           2\n",
      "11       same_address           2\n",
      "3                tier           4\n",
      "2         visit_count          31\n",
      "1            distance        3090\n"
     ]
    }
   ],
   "source": [
    "# Identifying the categorical variables through unique values.\n",
    "\n",
    "unique_counts = pd.DataFrame.from_records([(col, data[col].nunique()) for col in data.columns],\n",
    "                          columns=['Column_Name', 'Num_Unique']).sort_values(by=['Num_Unique'])\n",
    "\n",
    "print(unique_counts)"
   ]
  },
  {
   "cell_type": "markdown",
   "metadata": {},
   "source": [
    "##### Above output shows that \"tier\" and \"visit_count\" attributes have 4 and 31 unique values respectively. Rest all the other attributes (including response attribute \"outcome\") are binary in nature."
   ]
  },
  {
   "cell_type": "markdown",
   "metadata": {},
   "source": [
    "### Imbalance / Skewness identification in the dataset"
   ]
  },
  {
   "cell_type": "code",
   "execution_count": 14,
   "metadata": {},
   "outputs": [
    {
     "name": "stdout",
     "output_type": "stream",
     "text": [
      "The skewness information:\n",
      "distance             4.876756\n",
      "visit_count          4.778858\n",
      "outcome              4.659267\n",
      "same_language        3.535541\n",
      "same_address         3.514287\n",
      "fqhc                 1.561988\n",
      "tier                 0.903941\n",
      "family_assignment    0.667141\n",
      "kid                  0.507856\n",
      "is_ped               0.441229\n",
      "pcp_lookback         0.232984\n",
      "same_gender         -0.047320\n",
      "dtype: float64\n"
     ]
    },
    {
     "data": {
      "text/plain": [
       "array([[<AxesSubplot:title={'center':'outcome'}>,\n",
       "        <AxesSubplot:title={'center':'distance'}>,\n",
       "        <AxesSubplot:title={'center':'visit_count'}>],\n",
       "       [<AxesSubplot:title={'center':'tier'}>,\n",
       "        <AxesSubplot:title={'center':'fqhc'}>,\n",
       "        <AxesSubplot:title={'center':'pcp_lookback'}>],\n",
       "       [<AxesSubplot:title={'center':'family_assignment'}>,\n",
       "        <AxesSubplot:title={'center':'kid'}>,\n",
       "        <AxesSubplot:title={'center':'is_ped'}>],\n",
       "       [<AxesSubplot:title={'center':'same_gender'}>,\n",
       "        <AxesSubplot:title={'center':'same_language'}>,\n",
       "        <AxesSubplot:title={'center':'same_address'}>]], dtype=object)"
      ]
     },
     "execution_count": 14,
     "metadata": {},
     "output_type": "execute_result"
    },
    {
     "data": {
      "image/png": "[encoded data removed]",
      "text/plain": [
       "<Figure size 1080x720 with 12 Axes>"
      ]
     },
     "metadata": {
      "needs_background": "light"
     },
     "output_type": "display_data"
    }
   ],
   "source": [
    "# Further, data visualization for distribution, shape, size and skewness.\n",
    "\n",
    "# Skewnewss check\n",
    "print(\"The skewness information:\")\n",
    "print(data.skew().sort_values(ascending = False))\n",
    "\n",
    "# Distribution check\n",
    "data.hist(figsize = (15, 10))"
   ]
  },
  {
   "cell_type": "markdown",
   "metadata": {},
   "source": [
    "##### Observations -\n",
    "        1. The \"outcome\" (response) variable, which is a categorical variable with 2 entries, is highly imbalanced (positive skewness > 4) with more number of 0 (i.e. representing the member who keeps the auto assigned provider) label than 1 label (i.e. represenging the member who changed to different provider by calling customer service).\n",
    "        2. The \"distance\" attribute, which is a continous variable, has entries which are right skewed (positive skewness > 4).\n",
    "        a. For such righly skewed distributed attributes logarithmic transformation can be used.\n",
    "        3. The \"visit_count\" attribute, which is a discrete type continous variable (because of many entries), has entries which are right skewed (positive skewness > 4).\n",
    "        a. For such righly skewed distributed attributes logarithmic transformation can be used.\n",
    "        4. The \"tier\" attribute, which is a ordinal (categorical) variable with 4 entries, is fairly distributed with slightly more entires towards 1 which represents the highest benefit level and most cost-effective level. This shows that more number of people prefer label 1 over label 2, label 2 over label 3 and label 3 over label 4.\n",
    "    5. The \"fqhc\", \"same_language\" and \"same_address\" attributes, which are binary variables, too are highly imbalanced.\n",
    "    6. Rest of the attributes are binary variables and are fairly balanced."
   ]
  },
  {
   "cell_type": "markdown",
   "metadata": {},
   "source": [
    "##### * If the response variable is skewed/imbalanced categorical classes (say label 0 of \"outcome\" in our case), and if the values of the independent variable (feaature) are also skewed, depending on the model, skewness may violate model assumptions (e.g. logistic regression) or may impair the interpretation of feature importance. Therefore, it is important to perform feature engineering through transformation in order to reduce the skewness. "
   ]
  },
  {
   "cell_type": "markdown",
   "metadata": {},
   "source": [
    "### Skewness reduction - continuous variable"
   ]
  },
  {
   "cell_type": "code",
   "execution_count": 15,
   "metadata": {},
   "outputs": [
    {
     "name": "stdout",
     "output_type": "stream",
     "text": [
      "The skewness information after transformation:\n",
      "visit_count    2.154438\n",
      "distance       1.484972\n",
      "dtype: float64\n"
     ]
    }
   ],
   "source": [
    "# Working on the skewness of the continuous variables \"distance\" and \"visit_count\" through log transformation.\n",
    "data_transformed = data.copy(deep = True)\n",
    "\n",
    "data_transformed.distance = data_transformed.distance.map(lambda x: np.log(x+1))\n",
    "data_transformed.visit_count = data_transformed.visit_count.map(lambda x: np.log(x+1))\n",
    "\n",
    "print(\"The skewness information after transformation:\")\n",
    "print(data_transformed[[\"distance\", \"visit_count\"]].skew().sort_values(ascending = False))"
   ]
  },
  {
   "cell_type": "code",
   "execution_count": 16,
   "metadata": {},
   "outputs": [
    {
     "name": "stderr",
     "output_type": "stream",
     "text": [
      "C:\\Users\\ch065ba\\Anaconda3\\lib\\site-packages\\seaborn\\distributions.py:2551: FutureWarning: `distplot` is a deprecated function and will be removed in a future version. Please adapt your code to use either `displot` (a figure-level function with similar flexibility) or `histplot` (an axes-level function for histograms).\n",
      "  warnings.warn(msg, FutureWarning)\n"
     ]
    },
    {
     "name": "stdout",
     "output_type": "stream",
     "text": [
      "AxesSubplot(0.125,0.125;0.775x0.755)\n",
      "AxesSubplot(0.125,0.125;0.775x0.755)\n"
     ]
    },
    {
     "name": "stderr",
     "output_type": "stream",
     "text": [
      "C:\\Users\\ch065ba\\Anaconda3\\lib\\site-packages\\seaborn\\distributions.py:2551: FutureWarning: `distplot` is a deprecated function and will be removed in a future version. Please adapt your code to use either `displot` (a figure-level function with similar flexibility) or `histplot` (an axes-level function for histograms).\n",
      "  warnings.warn(msg, FutureWarning)\n"
     ]
    },
    {
     "data": {
      "image/png": "[encoded data removed]",
      "text/plain": [
       "<Figure size 432x288 with 1 Axes>"
      ]
     },
     "metadata": {
      "needs_background": "light"
     },
     "output_type": "display_data"
    },
    {
     "data": {
      "image/png": "[encoded data removed]",
      "text/plain": [
       "<Figure size 432x288 with 1 Axes>"
      ]
     },
     "metadata": {
      "needs_background": "light"
     },
     "output_type": "display_data"
    }
   ],
   "source": [
    "# Check before and after distribution of the \"distance\" attribute.\n",
    "\n",
    "plt.figure()\n",
    "print(sns.distplot(data.distance))\n",
    "plt.figure()\n",
    "print(sns.distplot(data_transformed.distance))"
   ]
  },
  {
   "cell_type": "code",
   "execution_count": 17,
   "metadata": {},
   "outputs": [
    {
     "name": "stderr",
     "output_type": "stream",
     "text": [
      "C:\\Users\\ch065ba\\Anaconda3\\lib\\site-packages\\seaborn\\distributions.py:2551: FutureWarning: `distplot` is a deprecated function and will be removed in a future version. Please adapt your code to use either `displot` (a figure-level function with similar flexibility) or `histplot` (an axes-level function for histograms).\n",
      "  warnings.warn(msg, FutureWarning)\n",
      "C:\\Users\\ch065ba\\Anaconda3\\lib\\site-packages\\seaborn\\distributions.py:2551: FutureWarning: `distplot` is a deprecated function and will be removed in a future version. Please adapt your code to use either `displot` (a figure-level function with similar flexibility) or `histplot` (an axes-level function for histograms).\n",
      "  warnings.warn(msg, FutureWarning)\n"
     ]
    },
    {
     "name": "stdout",
     "output_type": "stream",
     "text": [
      "AxesSubplot(0.125,0.125;0.775x0.755)\n",
      "AxesSubplot(0.125,0.125;0.775x0.755)\n"
     ]
    },
    {
     "data": {
      "image/png": "[encoded data removed]",
      "text/plain": [
       "<Figure size 432x288 with 1 Axes>"
      ]
     },
     "metadata": {
      "needs_background": "light"
     },
     "output_type": "display_data"
    },
    {
     "data": {
      "image/png": "[encoded data removed]",
      "text/plain": [
       "<Figure size 432x288 with 1 Axes>"
      ]
     },
     "metadata": {
      "needs_background": "light"
     },
     "output_type": "display_data"
    }
   ],
   "source": [
    "# Check before and after distribution of the \"visit_count\" attribute.\n",
    "\n",
    "plt.figure()\n",
    "print(sns.distplot(data.visit_count))\n",
    "plt.figure()\n",
    "print(sns.distplot(data_transformed.visit_count))"
   ]
  },
  {
   "cell_type": "markdown",
   "metadata": {},
   "source": [
    "##### * After log-transformation, the skewness has been reduced to a significant figure. Though, for better result box-cox transformation could be used, considering the moderate skewness achieved through log-transformation, these transformed values will be used for further analysis."
   ]
  },
  {
   "cell_type": "code",
   "execution_count": 18,
   "metadata": {},
   "outputs": [],
   "source": [
    "# def boxcoxtransformation(data, col):\n",
    "#     data_col_name = data[col]\n",
    "#     data_col_name_segg = data_col_name[col][data_col_name[col] > 0]\n",
    "#     bcdata, lam = boxcox(data_col_name_segg)\n",
    "#     x = np.empty_like(data_col_name)\n",
    "#     x[data_col_name > 0] = bcdata\n",
    "#     x[data_col_name == 0] = -1/lam\n",
    "#     pd.concat([data, x], axis=1)\n",
    "#     return data"
   ]
  },
  {
   "cell_type": "markdown",
   "metadata": {},
   "source": [
    "### Correlation analysis"
   ]
  },
  {
   "cell_type": "code",
   "execution_count": 19,
   "metadata": {},
   "outputs": [
    {
     "data": {
      "text/html": [
       "<style  type=\"text/css\" >\n",
       "    #T_f9d0dba7_1791_11ec_a5af_c0b5d7c03310 th {\n",
       "          font-size: 7pt;\n",
       "    }    #T_f9d0dba7_1791_11ec_a5af_c0b5d7c03310 td {\n",
       "          padding: 0em 0em;\n",
       "    }    #T_f9d0dba7_1791_11ec_a5af_c0b5d7c03310 th:hover {\n",
       "          font-size: 12pt;\n",
       "    }    #T_f9d0dba7_1791_11ec_a5af_c0b5d7c03310 tr:hover td:hover {\n",
       "          max-width: 200px;\n",
       "          font-size: 12pt;\n",
       "    }#T_f9d0dba7_1791_11ec_a5af_c0b5d7c03310row0_col0,#T_f9d0dba7_1791_11ec_a5af_c0b5d7c03310row1_col1,#T_f9d0dba7_1791_11ec_a5af_c0b5d7c03310row2_col2,#T_f9d0dba7_1791_11ec_a5af_c0b5d7c03310row3_col3,#T_f9d0dba7_1791_11ec_a5af_c0b5d7c03310row4_col4,#T_f9d0dba7_1791_11ec_a5af_c0b5d7c03310row5_col5,#T_f9d0dba7_1791_11ec_a5af_c0b5d7c03310row6_col6,#T_f9d0dba7_1791_11ec_a5af_c0b5d7c03310row7_col7,#T_f9d0dba7_1791_11ec_a5af_c0b5d7c03310row8_col8,#T_f9d0dba7_1791_11ec_a5af_c0b5d7c03310row9_col9,#T_f9d0dba7_1791_11ec_a5af_c0b5d7c03310row10_col10,#T_f9d0dba7_1791_11ec_a5af_c0b5d7c03310row11_col11{\n",
       "            background-color:  #4479bb;\n",
       "            color:  #000000;\n",
       "            max-width:  80px;\n",
       "            font-size:  10pt;\n",
       "        }#T_f9d0dba7_1791_11ec_a5af_c0b5d7c03310row0_col1,#T_f9d0dba7_1791_11ec_a5af_c0b5d7c03310row5_col6{\n",
       "            background-color:  #e17e92;\n",
       "            color:  #000000;\n",
       "            max-width:  80px;\n",
       "            font-size:  10pt;\n",
       "        }#T_f9d0dba7_1791_11ec_a5af_c0b5d7c03310row0_col2{\n",
       "            background-color:  #e0778c;\n",
       "            color:  #000000;\n",
       "            max-width:  80px;\n",
       "            font-size:  10pt;\n",
       "        }#T_f9d0dba7_1791_11ec_a5af_c0b5d7c03310row0_col3,#T_f9d0dba7_1791_11ec_a5af_c0b5d7c03310row0_col6{\n",
       "            background-color:  #dc5c76;\n",
       "            color:  #000000;\n",
       "            max-width:  80px;\n",
       "            font-size:  10pt;\n",
       "        }#T_f9d0dba7_1791_11ec_a5af_c0b5d7c03310row0_col4,#T_f9d0dba7_1791_11ec_a5af_c0b5d7c03310row0_col10,#T_f9d0dba7_1791_11ec_a5af_c0b5d7c03310row6_col9,#T_f9d0dba7_1791_11ec_a5af_c0b5d7c03310row8_col10,#T_f9d0dba7_1791_11ec_a5af_c0b5d7c03310row9_col1{\n",
       "            background-color:  #da4d69;\n",
       "            color:  #000000;\n",
       "            max-width:  80px;\n",
       "            font-size:  10pt;\n",
       "        }#T_f9d0dba7_1791_11ec_a5af_c0b5d7c03310row0_col5,#T_f9d0dba7_1791_11ec_a5af_c0b5d7c03310row1_col4,#T_f9d0dba7_1791_11ec_a5af_c0b5d7c03310row2_col4,#T_f9d0dba7_1791_11ec_a5af_c0b5d7c03310row3_col4,#T_f9d0dba7_1791_11ec_a5af_c0b5d7c03310row4_col3,#T_f9d0dba7_1791_11ec_a5af_c0b5d7c03310row5_col4,#T_f9d0dba7_1791_11ec_a5af_c0b5d7c03310row6_col4,#T_f9d0dba7_1791_11ec_a5af_c0b5d7c03310row7_col4,#T_f9d0dba7_1791_11ec_a5af_c0b5d7c03310row8_col4,#T_f9d0dba7_1791_11ec_a5af_c0b5d7c03310row9_col6,#T_f9d0dba7_1791_11ec_a5af_c0b5d7c03310row10_col3,#T_f9d0dba7_1791_11ec_a5af_c0b5d7c03310row11_col7,#T_f9d0dba7_1791_11ec_a5af_c0b5d7c03310row11_col10{\n",
       "            background-color:  #d73c5b;\n",
       "            color:  #f1f1f1;\n",
       "            max-width:  80px;\n",
       "            font-size:  10pt;\n",
       "        }#T_f9d0dba7_1791_11ec_a5af_c0b5d7c03310row0_col7,#T_f9d0dba7_1791_11ec_a5af_c0b5d7c03310row5_col9,#T_f9d0dba7_1791_11ec_a5af_c0b5d7c03310row11_col5{\n",
       "            background-color:  #de687f;\n",
       "            color:  #000000;\n",
       "            max-width:  80px;\n",
       "            font-size:  10pt;\n",
       "        }#T_f9d0dba7_1791_11ec_a5af_c0b5d7c03310row0_col8,#T_f9d0dba7_1791_11ec_a5af_c0b5d7c03310row0_col9,#T_f9d0dba7_1791_11ec_a5af_c0b5d7c03310row6_col11,#T_f9d0dba7_1791_11ec_a5af_c0b5d7c03310row10_col4{\n",
       "            background-color:  #db5872;\n",
       "            color:  #000000;\n",
       "            max-width:  80px;\n",
       "            font-size:  10pt;\n",
       "        }#T_f9d0dba7_1791_11ec_a5af_c0b5d7c03310row0_col11{\n",
       "            background-color:  #e0748a;\n",
       "            color:  #000000;\n",
       "            max-width:  80px;\n",
       "            font-size:  10pt;\n",
       "        }#T_f9d0dba7_1791_11ec_a5af_c0b5d7c03310row1_col0,#T_f9d0dba7_1791_11ec_a5af_c0b5d7c03310row2_col11,#T_f9d0dba7_1791_11ec_a5af_c0b5d7c03310row6_col5{\n",
       "            background-color:  #e07389;\n",
       "            color:  #000000;\n",
       "            max-width:  80px;\n",
       "            font-size:  10pt;\n",
       "        }#T_f9d0dba7_1791_11ec_a5af_c0b5d7c03310row1_col2{\n",
       "            background-color:  #de6c83;\n",
       "            color:  #000000;\n",
       "            max-width:  80px;\n",
       "            font-size:  10pt;\n",
       "        }#T_f9d0dba7_1791_11ec_a5af_c0b5d7c03310row1_col3,#T_f9d0dba7_1791_11ec_a5af_c0b5d7c03310row4_col0,#T_f9d0dba7_1791_11ec_a5af_c0b5d7c03310row6_col1{\n",
       "            background-color:  #dd5f78;\n",
       "            color:  #000000;\n",
       "            max-width:  80px;\n",
       "            font-size:  10pt;\n",
       "        }#T_f9d0dba7_1791_11ec_a5af_c0b5d7c03310row1_col5{\n",
       "            background-color:  #e48e9f;\n",
       "            color:  #000000;\n",
       "            max-width:  80px;\n",
       "            font-size:  10pt;\n",
       "        }#T_f9d0dba7_1791_11ec_a5af_c0b5d7c03310row1_col6,#T_f9d0dba7_1791_11ec_a5af_c0b5d7c03310row1_col7,#T_f9d0dba7_1791_11ec_a5af_c0b5d7c03310row10_col6{\n",
       "            background-color:  #db5771;\n",
       "            color:  #000000;\n",
       "            max-width:  80px;\n",
       "            font-size:  10pt;\n",
       "        }#T_f9d0dba7_1791_11ec_a5af_c0b5d7c03310row1_col8,#T_f9d0dba7_1791_11ec_a5af_c0b5d7c03310row9_col2,#T_f9d0dba7_1791_11ec_a5af_c0b5d7c03310row10_col8{\n",
       "            background-color:  #da4e6a;\n",
       "            color:  #000000;\n",
       "            max-width:  80px;\n",
       "            font-size:  10pt;\n",
       "        }#T_f9d0dba7_1791_11ec_a5af_c0b5d7c03310row1_col9,#T_f9d0dba7_1791_11ec_a5af_c0b5d7c03310row11_col3,#T_f9d0dba7_1791_11ec_a5af_c0b5d7c03310row11_col4{\n",
       "            background-color:  #db5570;\n",
       "            color:  #000000;\n",
       "            max-width:  80px;\n",
       "            font-size:  10pt;\n",
       "        }#T_f9d0dba7_1791_11ec_a5af_c0b5d7c03310row1_col10,#T_f9d0dba7_1791_11ec_a5af_c0b5d7c03310row4_col5,#T_f9d0dba7_1791_11ec_a5af_c0b5d7c03310row8_col11,#T_f9d0dba7_1791_11ec_a5af_c0b5d7c03310row10_col5,#T_f9d0dba7_1791_11ec_a5af_c0b5d7c03310row10_col7,#T_f9d0dba7_1791_11ec_a5af_c0b5d7c03310row11_col6{\n",
       "            background-color:  #d94663;\n",
       "            color:  #f1f1f1;\n",
       "            max-width:  80px;\n",
       "            font-size:  10pt;\n",
       "        }#T_f9d0dba7_1791_11ec_a5af_c0b5d7c03310row1_col11{\n",
       "            background-color:  #da506b;\n",
       "            color:  #000000;\n",
       "            max-width:  80px;\n",
       "            font-size:  10pt;\n",
       "        }#T_f9d0dba7_1791_11ec_a5af_c0b5d7c03310row2_col0,#T_f9d0dba7_1791_11ec_a5af_c0b5d7c03310row2_col1,#T_f9d0dba7_1791_11ec_a5af_c0b5d7c03310row3_col2{\n",
       "            background-color:  #e28194;\n",
       "            color:  #000000;\n",
       "            max-width:  80px;\n",
       "            font-size:  10pt;\n",
       "        }#T_f9d0dba7_1791_11ec_a5af_c0b5d7c03310row2_col3{\n",
       "            background-color:  #e17d91;\n",
       "            color:  #000000;\n",
       "            max-width:  80px;\n",
       "            font-size:  10pt;\n",
       "        }#T_f9d0dba7_1791_11ec_a5af_c0b5d7c03310row2_col5{\n",
       "            background-color:  #ecc6ce;\n",
       "            color:  #000000;\n",
       "            max-width:  80px;\n",
       "            font-size:  10pt;\n",
       "        }#T_f9d0dba7_1791_11ec_a5af_c0b5d7c03310row2_col6{\n",
       "            background-color:  #e492a3;\n",
       "            color:  #000000;\n",
       "            max-width:  80px;\n",
       "            font-size:  10pt;\n",
       "        }#T_f9d0dba7_1791_11ec_a5af_c0b5d7c03310row2_col7{\n",
       "            background-color:  #e38a9c;\n",
       "            color:  #000000;\n",
       "            max-width:  80px;\n",
       "            font-size:  10pt;\n",
       "        }#T_f9d0dba7_1791_11ec_a5af_c0b5d7c03310row2_col8,#T_f9d0dba7_1791_11ec_a5af_c0b5d7c03310row3_col5,#T_f9d0dba7_1791_11ec_a5af_c0b5d7c03310row5_col11{\n",
       "            background-color:  #e28396;\n",
       "            color:  #000000;\n",
       "            max-width:  80px;\n",
       "            font-size:  10pt;\n",
       "        }#T_f9d0dba7_1791_11ec_a5af_c0b5d7c03310row2_col9,#T_f9d0dba7_1791_11ec_a5af_c0b5d7c03310row3_col0,#T_f9d0dba7_1791_11ec_a5af_c0b5d7c03310row4_col9{\n",
       "            background-color:  #df6d84;\n",
       "            color:  #000000;\n",
       "            max-width:  80px;\n",
       "            font-size:  10pt;\n",
       "        }#T_f9d0dba7_1791_11ec_a5af_c0b5d7c03310row2_col10,#T_f9d0dba7_1791_11ec_a5af_c0b5d7c03310row4_col7,#T_f9d0dba7_1791_11ec_a5af_c0b5d7c03310row4_col8{\n",
       "            background-color:  #dc5e77;\n",
       "            color:  #000000;\n",
       "            max-width:  80px;\n",
       "            font-size:  10pt;\n",
       "        }#T_f9d0dba7_1791_11ec_a5af_c0b5d7c03310row3_col1,#T_f9d0dba7_1791_11ec_a5af_c0b5d7c03310row3_col11,#T_f9d0dba7_1791_11ec_a5af_c0b5d7c03310row5_col8{\n",
       "            background-color:  #e17c90;\n",
       "            color:  #000000;\n",
       "            max-width:  80px;\n",
       "            font-size:  10pt;\n",
       "        }#T_f9d0dba7_1791_11ec_a5af_c0b5d7c03310row3_col6,#T_f9d0dba7_1791_11ec_a5af_c0b5d7c03310row3_col9{\n",
       "            background-color:  #df6f85;\n",
       "            color:  #000000;\n",
       "            max-width:  80px;\n",
       "            font-size:  10pt;\n",
       "        }#T_f9d0dba7_1791_11ec_a5af_c0b5d7c03310row3_col7,#T_f9d0dba7_1791_11ec_a5af_c0b5d7c03310row8_col5{\n",
       "            background-color:  #de667e;\n",
       "            color:  #000000;\n",
       "            max-width:  80px;\n",
       "            font-size:  10pt;\n",
       "        }#T_f9d0dba7_1791_11ec_a5af_c0b5d7c03310row3_col8{\n",
       "            background-color:  #dd627b;\n",
       "            color:  #000000;\n",
       "            max-width:  80px;\n",
       "            font-size:  10pt;\n",
       "        }#T_f9d0dba7_1791_11ec_a5af_c0b5d7c03310row3_col10,#T_f9d0dba7_1791_11ec_a5af_c0b5d7c03310row4_col1,#T_f9d0dba7_1791_11ec_a5af_c0b5d7c03310row5_col10,#T_f9d0dba7_1791_11ec_a5af_c0b5d7c03310row6_col3{\n",
       "            background-color:  #dc5b75;\n",
       "            color:  #000000;\n",
       "            max-width:  80px;\n",
       "            font-size:  10pt;\n",
       "        }#T_f9d0dba7_1791_11ec_a5af_c0b5d7c03310row4_col2,#T_f9d0dba7_1791_11ec_a5af_c0b5d7c03310row7_col9,#T_f9d0dba7_1791_11ec_a5af_c0b5d7c03310row7_col11{\n",
       "            background-color:  #d8415f;\n",
       "            color:  #f1f1f1;\n",
       "            max-width:  80px;\n",
       "            font-size:  10pt;\n",
       "        }#T_f9d0dba7_1791_11ec_a5af_c0b5d7c03310row4_col6{\n",
       "            background-color:  #da516c;\n",
       "            color:  #000000;\n",
       "            max-width:  80px;\n",
       "            font-size:  10pt;\n",
       "        }#T_f9d0dba7_1791_11ec_a5af_c0b5d7c03310row4_col10{\n",
       "            background-color:  #e0768b;\n",
       "            color:  #000000;\n",
       "            max-width:  80px;\n",
       "            font-size:  10pt;\n",
       "        }#T_f9d0dba7_1791_11ec_a5af_c0b5d7c03310row4_col11,#T_f9d0dba7_1791_11ec_a5af_c0b5d7c03310row5_col3{\n",
       "            background-color:  #e17a8f;\n",
       "            color:  #000000;\n",
       "            max-width:  80px;\n",
       "            font-size:  10pt;\n",
       "        }#T_f9d0dba7_1791_11ec_a5af_c0b5d7c03310row5_col0,#T_f9d0dba7_1791_11ec_a5af_c0b5d7c03310row9_col0,#T_f9d0dba7_1791_11ec_a5af_c0b5d7c03310row10_col1,#T_f9d0dba7_1791_11ec_a5af_c0b5d7c03310row10_col2{\n",
       "            background-color:  #d84462;\n",
       "            color:  #f1f1f1;\n",
       "            max-width:  80px;\n",
       "            font-size:  10pt;\n",
       "        }#T_f9d0dba7_1791_11ec_a5af_c0b5d7c03310row5_col1,#T_f9d0dba7_1791_11ec_a5af_c0b5d7c03310row9_col10{\n",
       "            background-color:  #e6a0ae;\n",
       "            color:  #000000;\n",
       "            max-width:  80px;\n",
       "            font-size:  10pt;\n",
       "        }#T_f9d0dba7_1791_11ec_a5af_c0b5d7c03310row5_col2{\n",
       "            background-color:  #ecc3cb;\n",
       "            color:  #000000;\n",
       "            max-width:  80px;\n",
       "            font-size:  10pt;\n",
       "        }#T_f9d0dba7_1791_11ec_a5af_c0b5d7c03310row5_col7{\n",
       "            background-color:  #e18093;\n",
       "            color:  #000000;\n",
       "            max-width:  80px;\n",
       "            font-size:  10pt;\n",
       "        }#T_f9d0dba7_1791_11ec_a5af_c0b5d7c03310row6_col0,#T_f9d0dba7_1791_11ec_a5af_c0b5d7c03310row7_col0{\n",
       "            background-color:  #dc5973;\n",
       "            color:  #000000;\n",
       "            max-width:  80px;\n",
       "            font-size:  10pt;\n",
       "        }#T_f9d0dba7_1791_11ec_a5af_c0b5d7c03310row6_col2{\n",
       "            background-color:  #e28698;\n",
       "            color:  #000000;\n",
       "            max-width:  80px;\n",
       "            font-size:  10pt;\n",
       "        }#T_f9d0dba7_1791_11ec_a5af_c0b5d7c03310row6_col7{\n",
       "            background-color:  #ebc1c9;\n",
       "            color:  #000000;\n",
       "            max-width:  80px;\n",
       "            font-size:  10pt;\n",
       "        }#T_f9d0dba7_1791_11ec_a5af_c0b5d7c03310row6_col8{\n",
       "            background-color:  #eab9c3;\n",
       "            color:  #000000;\n",
       "            max-width:  80px;\n",
       "            font-size:  10pt;\n",
       "        }#T_f9d0dba7_1791_11ec_a5af_c0b5d7c03310row6_col10,#T_f9d0dba7_1791_11ec_a5af_c0b5d7c03310row11_col0{\n",
       "            background-color:  #dd6179;\n",
       "            color:  #000000;\n",
       "            max-width:  80px;\n",
       "            font-size:  10pt;\n",
       "        }#T_f9d0dba7_1791_11ec_a5af_c0b5d7c03310row7_col1,#T_f9d0dba7_1791_11ec_a5af_c0b5d7c03310row11_col2{\n",
       "            background-color:  #db526e;\n",
       "            color:  #000000;\n",
       "            max-width:  80px;\n",
       "            font-size:  10pt;\n",
       "        }#T_f9d0dba7_1791_11ec_a5af_c0b5d7c03310row7_col2{\n",
       "            background-color:  #df7288;\n",
       "            color:  #000000;\n",
       "            max-width:  80px;\n",
       "            font-size:  10pt;\n",
       "        }#T_f9d0dba7_1791_11ec_a5af_c0b5d7c03310row7_col3,#T_f9d0dba7_1791_11ec_a5af_c0b5d7c03310row7_col10,#T_f9d0dba7_1791_11ec_a5af_c0b5d7c03310row9_col8,#T_f9d0dba7_1791_11ec_a5af_c0b5d7c03310row10_col11{\n",
       "            background-color:  #d84361;\n",
       "            color:  #f1f1f1;\n",
       "            max-width:  80px;\n",
       "            font-size:  10pt;\n",
       "        }#T_f9d0dba7_1791_11ec_a5af_c0b5d7c03310row7_col5{\n",
       "            background-color:  #de6980;\n",
       "            color:  #000000;\n",
       "            max-width:  80px;\n",
       "            font-size:  10pt;\n",
       "        }#T_f9d0dba7_1791_11ec_a5af_c0b5d7c03310row7_col6{\n",
       "            background-color:  #eab8c2;\n",
       "            color:  #000000;\n",
       "            max-width:  80px;\n",
       "            font-size:  10pt;\n",
       "        }#T_f9d0dba7_1791_11ec_a5af_c0b5d7c03310row7_col8,#T_f9d0dba7_1791_11ec_a5af_c0b5d7c03310row8_col7{\n",
       "            background-color:  #6d95c8;\n",
       "            color:  #000000;\n",
       "            max-width:  80px;\n",
       "            font-size:  10pt;\n",
       "        }#T_f9d0dba7_1791_11ec_a5af_c0b5d7c03310row8_col0,#T_f9d0dba7_1791_11ec_a5af_c0b5d7c03310row9_col5{\n",
       "            background-color:  #d94a67;\n",
       "            color:  #000000;\n",
       "            max-width:  80px;\n",
       "            font-size:  10pt;\n",
       "        }#T_f9d0dba7_1791_11ec_a5af_c0b5d7c03310row8_col1{\n",
       "            background-color:  #da4b68;\n",
       "            color:  #000000;\n",
       "            max-width:  80px;\n",
       "            font-size:  10pt;\n",
       "        }#T_f9d0dba7_1791_11ec_a5af_c0b5d7c03310row8_col2{\n",
       "            background-color:  #de6b82;\n",
       "            color:  #000000;\n",
       "            max-width:  80px;\n",
       "            font-size:  10pt;\n",
       "        }#T_f9d0dba7_1791_11ec_a5af_c0b5d7c03310row8_col3,#T_f9d0dba7_1791_11ec_a5af_c0b5d7c03310row9_col11,#T_f9d0dba7_1791_11ec_a5af_c0b5d7c03310row10_col0{\n",
       "            background-color:  #d8405e;\n",
       "            color:  #f1f1f1;\n",
       "            max-width:  80px;\n",
       "            font-size:  10pt;\n",
       "        }#T_f9d0dba7_1791_11ec_a5af_c0b5d7c03310row8_col6{\n",
       "            background-color:  #e9b1bc;\n",
       "            color:  #000000;\n",
       "            max-width:  80px;\n",
       "            font-size:  10pt;\n",
       "        }#T_f9d0dba7_1791_11ec_a5af_c0b5d7c03310row8_col9,#T_f9d0dba7_1791_11ec_a5af_c0b5d7c03310row9_col3{\n",
       "            background-color:  #d94865;\n",
       "            color:  #000000;\n",
       "            max-width:  80px;\n",
       "            font-size:  10pt;\n",
       "        }#T_f9d0dba7_1791_11ec_a5af_c0b5d7c03310row9_col4,#T_f9d0dba7_1791_11ec_a5af_c0b5d7c03310row11_col1{\n",
       "            background-color:  #d94764;\n",
       "            color:  #f1f1f1;\n",
       "            max-width:  80px;\n",
       "            font-size:  10pt;\n",
       "        }#T_f9d0dba7_1791_11ec_a5af_c0b5d7c03310row9_col7{\n",
       "            background-color:  #d73d5c;\n",
       "            color:  #f1f1f1;\n",
       "            max-width:  80px;\n",
       "            font-size:  10pt;\n",
       "        }#T_f9d0dba7_1791_11ec_a5af_c0b5d7c03310row10_col9{\n",
       "            background-color:  #e7a5b2;\n",
       "            color:  #000000;\n",
       "            max-width:  80px;\n",
       "            font-size:  10pt;\n",
       "        }#T_f9d0dba7_1791_11ec_a5af_c0b5d7c03310row11_col8,#T_f9d0dba7_1791_11ec_a5af_c0b5d7c03310row11_col9{\n",
       "            background-color:  #d83e5d;\n",
       "            color:  #f1f1f1;\n",
       "            max-width:  80px;\n",
       "            font-size:  10pt;\n",
       "        }</style><table id=\"T_f9d0dba7_1791_11ec_a5af_c0b5d7c03310\" ><caption>Hover to magify</caption><thead>    <tr>        <th class=\"blank level0\" ></th>        <th class=\"col_heading level0 col0\" >outcome</th>        <th class=\"col_heading level0 col1\" >distance</th>        <th class=\"col_heading level0 col2\" >visit_count</th>        <th class=\"col_heading level0 col3\" >tier</th>        <th class=\"col_heading level0 col4\" >fqhc</th>        <th class=\"col_heading level0 col5\" >pcp_lookback</th>        <th class=\"col_heading level0 col6\" >family_assignment</th>        <th class=\"col_heading level0 col7\" >kid</th>        <th class=\"col_heading level0 col8\" >is_ped</th>        <th class=\"col_heading level0 col9\" >same_gender</th>        <th class=\"col_heading level0 col10\" >same_language</th>        <th class=\"col_heading level0 col11\" >same_address</th>    </tr></thead><tbody>\n",
       "                <tr>\n",
       "                        <th id=\"T_f9d0dba7_1791_11ec_a5af_c0b5d7c03310level0_row0\" class=\"row_heading level0 row0\" >outcome</th>\n",
       "                        <td id=\"T_f9d0dba7_1791_11ec_a5af_c0b5d7c03310row0_col0\" class=\"data row0 col0\" >1.00</td>\n",
       "                        <td id=\"T_f9d0dba7_1791_11ec_a5af_c0b5d7c03310row0_col1\" class=\"data row0 col1\" >0.11</td>\n",
       "                        <td id=\"T_f9d0dba7_1791_11ec_a5af_c0b5d7c03310row0_col2\" class=\"data row0 col2\" >0.09</td>\n",
       "                        <td id=\"T_f9d0dba7_1791_11ec_a5af_c0b5d7c03310row0_col3\" class=\"data row0 col3\" >0.01</td>\n",
       "                        <td id=\"T_f9d0dba7_1791_11ec_a5af_c0b5d7c03310row0_col4\" class=\"data row0 col4\" >-0.03</td>\n",
       "                        <td id=\"T_f9d0dba7_1791_11ec_a5af_c0b5d7c03310row0_col5\" class=\"data row0 col5\" >-0.09</td>\n",
       "                        <td id=\"T_f9d0dba7_1791_11ec_a5af_c0b5d7c03310row0_col6\" class=\"data row0 col6\" >0.01</td>\n",
       "                        <td id=\"T_f9d0dba7_1791_11ec_a5af_c0b5d7c03310row0_col7\" class=\"data row0 col7\" >0.05</td>\n",
       "                        <td id=\"T_f9d0dba7_1791_11ec_a5af_c0b5d7c03310row0_col8\" class=\"data row0 col8\" >0.00</td>\n",
       "                        <td id=\"T_f9d0dba7_1791_11ec_a5af_c0b5d7c03310row0_col9\" class=\"data row0 col9\" >-0.00</td>\n",
       "                        <td id=\"T_f9d0dba7_1791_11ec_a5af_c0b5d7c03310row0_col10\" class=\"data row0 col10\" >-0.03</td>\n",
       "                        <td id=\"T_f9d0dba7_1791_11ec_a5af_c0b5d7c03310row0_col11\" class=\"data row0 col11\" >0.08</td>\n",
       "            </tr>\n",
       "            <tr>\n",
       "                        <th id=\"T_f9d0dba7_1791_11ec_a5af_c0b5d7c03310level0_row1\" class=\"row_heading level0 row1\" >distance</th>\n",
       "                        <td id=\"T_f9d0dba7_1791_11ec_a5af_c0b5d7c03310row1_col0\" class=\"data row1 col0\" >0.11</td>\n",
       "                        <td id=\"T_f9d0dba7_1791_11ec_a5af_c0b5d7c03310row1_col1\" class=\"data row1 col1\" >1.00</td>\n",
       "                        <td id=\"T_f9d0dba7_1791_11ec_a5af_c0b5d7c03310row1_col2\" class=\"data row1 col2\" >0.09</td>\n",
       "                        <td id=\"T_f9d0dba7_1791_11ec_a5af_c0b5d7c03310row1_col3\" class=\"data row1 col3\" >0.05</td>\n",
       "                        <td id=\"T_f9d0dba7_1791_11ec_a5af_c0b5d7c03310row1_col4\" class=\"data row1 col4\" >-0.05</td>\n",
       "                        <td id=\"T_f9d0dba7_1791_11ec_a5af_c0b5d7c03310row1_col5\" class=\"data row1 col5\" >0.19</td>\n",
       "                        <td id=\"T_f9d0dba7_1791_11ec_a5af_c0b5d7c03310row1_col6\" class=\"data row1 col6\" >0.03</td>\n",
       "                        <td id=\"T_f9d0dba7_1791_11ec_a5af_c0b5d7c03310row1_col7\" class=\"data row1 col7\" >0.03</td>\n",
       "                        <td id=\"T_f9d0dba7_1791_11ec_a5af_c0b5d7c03310row1_col8\" class=\"data row1 col8\" >0.01</td>\n",
       "                        <td id=\"T_f9d0dba7_1791_11ec_a5af_c0b5d7c03310row1_col9\" class=\"data row1 col9\" >0.03</td>\n",
       "                        <td id=\"T_f9d0dba7_1791_11ec_a5af_c0b5d7c03310row1_col10\" class=\"data row1 col10\" >-0.02</td>\n",
       "                        <td id=\"T_f9d0dba7_1791_11ec_a5af_c0b5d7c03310row1_col11\" class=\"data row1 col11\" >0.01</td>\n",
       "            </tr>\n",
       "            <tr>\n",
       "                        <th id=\"T_f9d0dba7_1791_11ec_a5af_c0b5d7c03310level0_row2\" class=\"row_heading level0 row2\" >visit_count</th>\n",
       "                        <td id=\"T_f9d0dba7_1791_11ec_a5af_c0b5d7c03310row2_col0\" class=\"data row2 col0\" >0.09</td>\n",
       "                        <td id=\"T_f9d0dba7_1791_11ec_a5af_c0b5d7c03310row2_col1\" class=\"data row2 col1\" >0.09</td>\n",
       "                        <td id=\"T_f9d0dba7_1791_11ec_a5af_c0b5d7c03310row2_col2\" class=\"data row2 col2\" >1.00</td>\n",
       "                        <td id=\"T_f9d0dba7_1791_11ec_a5af_c0b5d7c03310row2_col3\" class=\"data row2 col3\" >0.07</td>\n",
       "                        <td id=\"T_f9d0dba7_1791_11ec_a5af_c0b5d7c03310row2_col4\" class=\"data row2 col4\" >-0.13</td>\n",
       "                        <td id=\"T_f9d0dba7_1791_11ec_a5af_c0b5d7c03310row2_col5\" class=\"data row2 col5\" >0.30</td>\n",
       "                        <td id=\"T_f9d0dba7_1791_11ec_a5af_c0b5d7c03310row2_col6\" class=\"data row2 col6\" >0.14</td>\n",
       "                        <td id=\"T_f9d0dba7_1791_11ec_a5af_c0b5d7c03310row2_col7\" class=\"data row2 col7\" >0.12</td>\n",
       "                        <td id=\"T_f9d0dba7_1791_11ec_a5af_c0b5d7c03310row2_col8\" class=\"data row2 col8\" >0.09</td>\n",
       "                        <td id=\"T_f9d0dba7_1791_11ec_a5af_c0b5d7c03310row2_col9\" class=\"data row2 col9\" >0.03</td>\n",
       "                        <td id=\"T_f9d0dba7_1791_11ec_a5af_c0b5d7c03310row2_col10\" class=\"data row2 col10\" >-0.02</td>\n",
       "                        <td id=\"T_f9d0dba7_1791_11ec_a5af_c0b5d7c03310row2_col11\" class=\"data row2 col11\" >0.04</td>\n",
       "            </tr>\n",
       "            <tr>\n",
       "                        <th id=\"T_f9d0dba7_1791_11ec_a5af_c0b5d7c03310level0_row3\" class=\"row_heading level0 row3\" >tier</th>\n",
       "                        <td id=\"T_f9d0dba7_1791_11ec_a5af_c0b5d7c03310row3_col0\" class=\"data row3 col0\" >0.01</td>\n",
       "                        <td id=\"T_f9d0dba7_1791_11ec_a5af_c0b5d7c03310row3_col1\" class=\"data row3 col1\" >0.05</td>\n",
       "                        <td id=\"T_f9d0dba7_1791_11ec_a5af_c0b5d7c03310row3_col2\" class=\"data row3 col2\" >0.07</td>\n",
       "                        <td id=\"T_f9d0dba7_1791_11ec_a5af_c0b5d7c03310row3_col3\" class=\"data row3 col3\" >1.00</td>\n",
       "                        <td id=\"T_f9d0dba7_1791_11ec_a5af_c0b5d7c03310row3_col4\" class=\"data row3 col4\" >-0.15</td>\n",
       "                        <td id=\"T_f9d0dba7_1791_11ec_a5af_c0b5d7c03310row3_col5\" class=\"data row3 col5\" >0.08</td>\n",
       "                        <td id=\"T_f9d0dba7_1791_11ec_a5af_c0b5d7c03310row3_col6\" class=\"data row3 col6\" >0.01</td>\n",
       "                        <td id=\"T_f9d0dba7_1791_11ec_a5af_c0b5d7c03310row3_col7\" class=\"data row3 col7\" >-0.01</td>\n",
       "                        <td id=\"T_f9d0dba7_1791_11ec_a5af_c0b5d7c03310row3_col8\" class=\"data row3 col8\" >-0.03</td>\n",
       "                        <td id=\"T_f9d0dba7_1791_11ec_a5af_c0b5d7c03310row3_col9\" class=\"data row3 col9\" >0.01</td>\n",
       "                        <td id=\"T_f9d0dba7_1791_11ec_a5af_c0b5d7c03310row3_col10\" class=\"data row3 col10\" >-0.05</td>\n",
       "                        <td id=\"T_f9d0dba7_1791_11ec_a5af_c0b5d7c03310row3_col11\" class=\"data row3 col11\" >0.05</td>\n",
       "            </tr>\n",
       "            <tr>\n",
       "                        <th id=\"T_f9d0dba7_1791_11ec_a5af_c0b5d7c03310level0_row4\" class=\"row_heading level0 row4\" >fqhc</th>\n",
       "                        <td id=\"T_f9d0dba7_1791_11ec_a5af_c0b5d7c03310row4_col0\" class=\"data row4 col0\" >-0.03</td>\n",
       "                        <td id=\"T_f9d0dba7_1791_11ec_a5af_c0b5d7c03310row4_col1\" class=\"data row4 col1\" >-0.05</td>\n",
       "                        <td id=\"T_f9d0dba7_1791_11ec_a5af_c0b5d7c03310row4_col2\" class=\"data row4 col2\" >-0.13</td>\n",
       "                        <td id=\"T_f9d0dba7_1791_11ec_a5af_c0b5d7c03310row4_col3\" class=\"data row4 col3\" >-0.15</td>\n",
       "                        <td id=\"T_f9d0dba7_1791_11ec_a5af_c0b5d7c03310row4_col4\" class=\"data row4 col4\" >1.00</td>\n",
       "                        <td id=\"T_f9d0dba7_1791_11ec_a5af_c0b5d7c03310row4_col5\" class=\"data row4 col5\" >-0.12</td>\n",
       "                        <td id=\"T_f9d0dba7_1791_11ec_a5af_c0b5d7c03310row4_col6\" class=\"data row4 col6\" >-0.08</td>\n",
       "                        <td id=\"T_f9d0dba7_1791_11ec_a5af_c0b5d7c03310row4_col7\" class=\"data row4 col7\" >-0.04</td>\n",
       "                        <td id=\"T_f9d0dba7_1791_11ec_a5af_c0b5d7c03310row4_col8\" class=\"data row4 col8\" >-0.04</td>\n",
       "                        <td id=\"T_f9d0dba7_1791_11ec_a5af_c0b5d7c03310row4_col9\" class=\"data row4 col9\" >0.01</td>\n",
       "                        <td id=\"T_f9d0dba7_1791_11ec_a5af_c0b5d7c03310row4_col10\" class=\"data row4 col10\" >0.04</td>\n",
       "                        <td id=\"T_f9d0dba7_1791_11ec_a5af_c0b5d7c03310row4_col11\" class=\"data row4 col11\" >0.05</td>\n",
       "            </tr>\n",
       "            <tr>\n",
       "                        <th id=\"T_f9d0dba7_1791_11ec_a5af_c0b5d7c03310level0_row5\" class=\"row_heading level0 row5\" >pcp_lookback</th>\n",
       "                        <td id=\"T_f9d0dba7_1791_11ec_a5af_c0b5d7c03310row5_col0\" class=\"data row5 col0\" >-0.09</td>\n",
       "                        <td id=\"T_f9d0dba7_1791_11ec_a5af_c0b5d7c03310row5_col1\" class=\"data row5 col1\" >0.19</td>\n",
       "                        <td id=\"T_f9d0dba7_1791_11ec_a5af_c0b5d7c03310row5_col2\" class=\"data row5 col2\" >0.30</td>\n",
       "                        <td id=\"T_f9d0dba7_1791_11ec_a5af_c0b5d7c03310row5_col3\" class=\"data row5 col3\" >0.08</td>\n",
       "                        <td id=\"T_f9d0dba7_1791_11ec_a5af_c0b5d7c03310row5_col4\" class=\"data row5 col4\" >-0.12</td>\n",
       "                        <td id=\"T_f9d0dba7_1791_11ec_a5af_c0b5d7c03310row5_col5\" class=\"data row5 col5\" >1.00</td>\n",
       "                        <td id=\"T_f9d0dba7_1791_11ec_a5af_c0b5d7c03310row5_col6\" class=\"data row5 col6\" >0.09</td>\n",
       "                        <td id=\"T_f9d0dba7_1791_11ec_a5af_c0b5d7c03310row5_col7\" class=\"data row5 col7\" >0.09</td>\n",
       "                        <td id=\"T_f9d0dba7_1791_11ec_a5af_c0b5d7c03310row5_col8\" class=\"data row5 col8\" >0.08</td>\n",
       "                        <td id=\"T_f9d0dba7_1791_11ec_a5af_c0b5d7c03310row5_col9\" class=\"data row5 col9\" >0.02</td>\n",
       "                        <td id=\"T_f9d0dba7_1791_11ec_a5af_c0b5d7c03310row5_col10\" class=\"data row5 col10\" >-0.02</td>\n",
       "                        <td id=\"T_f9d0dba7_1791_11ec_a5af_c0b5d7c03310row5_col11\" class=\"data row5 col11\" >0.10</td>\n",
       "            </tr>\n",
       "            <tr>\n",
       "                        <th id=\"T_f9d0dba7_1791_11ec_a5af_c0b5d7c03310level0_row6\" class=\"row_heading level0 row6\" >family_assignment</th>\n",
       "                        <td id=\"T_f9d0dba7_1791_11ec_a5af_c0b5d7c03310row6_col0\" class=\"data row6 col0\" >0.01</td>\n",
       "                        <td id=\"T_f9d0dba7_1791_11ec_a5af_c0b5d7c03310row6_col1\" class=\"data row6 col1\" >0.03</td>\n",
       "                        <td id=\"T_f9d0dba7_1791_11ec_a5af_c0b5d7c03310row6_col2\" class=\"data row6 col2\" >0.14</td>\n",
       "                        <td id=\"T_f9d0dba7_1791_11ec_a5af_c0b5d7c03310row6_col3\" class=\"data row6 col3\" >0.01</td>\n",
       "                        <td id=\"T_f9d0dba7_1791_11ec_a5af_c0b5d7c03310row6_col4\" class=\"data row6 col4\" >-0.08</td>\n",
       "                        <td id=\"T_f9d0dba7_1791_11ec_a5af_c0b5d7c03310row6_col5\" class=\"data row6 col5\" >0.09</td>\n",
       "                        <td id=\"T_f9d0dba7_1791_11ec_a5af_c0b5d7c03310row6_col6\" class=\"data row6 col6\" >1.00</td>\n",
       "                        <td id=\"T_f9d0dba7_1791_11ec_a5af_c0b5d7c03310row6_col7\" class=\"data row6 col7\" >0.31</td>\n",
       "                        <td id=\"T_f9d0dba7_1791_11ec_a5af_c0b5d7c03310row6_col8\" class=\"data row6 col8\" >0.30</td>\n",
       "                        <td id=\"T_f9d0dba7_1791_11ec_a5af_c0b5d7c03310row6_col9\" class=\"data row6 col9\" >-0.03</td>\n",
       "                        <td id=\"T_f9d0dba7_1791_11ec_a5af_c0b5d7c03310row6_col10\" class=\"data row6 col10\" >0.03</td>\n",
       "                        <td id=\"T_f9d0dba7_1791_11ec_a5af_c0b5d7c03310row6_col11\" class=\"data row6 col11\" >0.01</td>\n",
       "            </tr>\n",
       "            <tr>\n",
       "                        <th id=\"T_f9d0dba7_1791_11ec_a5af_c0b5d7c03310level0_row7\" class=\"row_heading level0 row7\" >kid</th>\n",
       "                        <td id=\"T_f9d0dba7_1791_11ec_a5af_c0b5d7c03310row7_col0\" class=\"data row7 col0\" >0.05</td>\n",
       "                        <td id=\"T_f9d0dba7_1791_11ec_a5af_c0b5d7c03310row7_col1\" class=\"data row7 col1\" >0.03</td>\n",
       "                        <td id=\"T_f9d0dba7_1791_11ec_a5af_c0b5d7c03310row7_col2\" class=\"data row7 col2\" >0.12</td>\n",
       "                        <td id=\"T_f9d0dba7_1791_11ec_a5af_c0b5d7c03310row7_col3\" class=\"data row7 col3\" >-0.01</td>\n",
       "                        <td id=\"T_f9d0dba7_1791_11ec_a5af_c0b5d7c03310row7_col4\" class=\"data row7 col4\" >-0.04</td>\n",
       "                        <td id=\"T_f9d0dba7_1791_11ec_a5af_c0b5d7c03310row7_col5\" class=\"data row7 col5\" >0.09</td>\n",
       "                        <td id=\"T_f9d0dba7_1791_11ec_a5af_c0b5d7c03310row7_col6\" class=\"data row7 col6\" >0.31</td>\n",
       "                        <td id=\"T_f9d0dba7_1791_11ec_a5af_c0b5d7c03310row7_col7\" class=\"data row7 col7\" >1.00</td>\n",
       "                        <td id=\"T_f9d0dba7_1791_11ec_a5af_c0b5d7c03310row7_col8\" class=\"data row7 col8\" >0.88</td>\n",
       "                        <td id=\"T_f9d0dba7_1791_11ec_a5af_c0b5d7c03310row7_col9\" class=\"data row7 col9\" >-0.02</td>\n",
       "                        <td id=\"T_f9d0dba7_1791_11ec_a5af_c0b5d7c03310row7_col10\" class=\"data row7 col10\" >-0.02</td>\n",
       "                        <td id=\"T_f9d0dba7_1791_11ec_a5af_c0b5d7c03310row7_col11\" class=\"data row7 col11\" >-0.02</td>\n",
       "            </tr>\n",
       "            <tr>\n",
       "                        <th id=\"T_f9d0dba7_1791_11ec_a5af_c0b5d7c03310level0_row8\" class=\"row_heading level0 row8\" >is_ped</th>\n",
       "                        <td id=\"T_f9d0dba7_1791_11ec_a5af_c0b5d7c03310row8_col0\" class=\"data row8 col0\" >0.00</td>\n",
       "                        <td id=\"T_f9d0dba7_1791_11ec_a5af_c0b5d7c03310row8_col1\" class=\"data row8 col1\" >0.01</td>\n",
       "                        <td id=\"T_f9d0dba7_1791_11ec_a5af_c0b5d7c03310row8_col2\" class=\"data row8 col2\" >0.09</td>\n",
       "                        <td id=\"T_f9d0dba7_1791_11ec_a5af_c0b5d7c03310row8_col3\" class=\"data row8 col3\" >-0.03</td>\n",
       "                        <td id=\"T_f9d0dba7_1791_11ec_a5af_c0b5d7c03310row8_col4\" class=\"data row8 col4\" >-0.04</td>\n",
       "                        <td id=\"T_f9d0dba7_1791_11ec_a5af_c0b5d7c03310row8_col5\" class=\"data row8 col5\" >0.08</td>\n",
       "                        <td id=\"T_f9d0dba7_1791_11ec_a5af_c0b5d7c03310row8_col6\" class=\"data row8 col6\" >0.30</td>\n",
       "                        <td id=\"T_f9d0dba7_1791_11ec_a5af_c0b5d7c03310row8_col7\" class=\"data row8 col7\" >0.88</td>\n",
       "                        <td id=\"T_f9d0dba7_1791_11ec_a5af_c0b5d7c03310row8_col8\" class=\"data row8 col8\" >1.00</td>\n",
       "                        <td id=\"T_f9d0dba7_1791_11ec_a5af_c0b5d7c03310row8_col9\" class=\"data row8 col9\" >-0.00</td>\n",
       "                        <td id=\"T_f9d0dba7_1791_11ec_a5af_c0b5d7c03310row8_col10\" class=\"data row8 col10\" >0.01</td>\n",
       "                        <td id=\"T_f9d0dba7_1791_11ec_a5af_c0b5d7c03310row8_col11\" class=\"data row8 col11\" >-0.01</td>\n",
       "            </tr>\n",
       "            <tr>\n",
       "                        <th id=\"T_f9d0dba7_1791_11ec_a5af_c0b5d7c03310level0_row9\" class=\"row_heading level0 row9\" >same_gender</th>\n",
       "                        <td id=\"T_f9d0dba7_1791_11ec_a5af_c0b5d7c03310row9_col0\" class=\"data row9 col0\" >-0.00</td>\n",
       "                        <td id=\"T_f9d0dba7_1791_11ec_a5af_c0b5d7c03310row9_col1\" class=\"data row9 col1\" >0.03</td>\n",
       "                        <td id=\"T_f9d0dba7_1791_11ec_a5af_c0b5d7c03310row9_col2\" class=\"data row9 col2\" >0.03</td>\n",
       "                        <td id=\"T_f9d0dba7_1791_11ec_a5af_c0b5d7c03310row9_col3\" class=\"data row9 col3\" >0.01</td>\n",
       "                        <td id=\"T_f9d0dba7_1791_11ec_a5af_c0b5d7c03310row9_col4\" class=\"data row9 col4\" >0.01</td>\n",
       "                        <td id=\"T_f9d0dba7_1791_11ec_a5af_c0b5d7c03310row9_col5\" class=\"data row9 col5\" >0.02</td>\n",
       "                        <td id=\"T_f9d0dba7_1791_11ec_a5af_c0b5d7c03310row9_col6\" class=\"data row9 col6\" >-0.03</td>\n",
       "                        <td id=\"T_f9d0dba7_1791_11ec_a5af_c0b5d7c03310row9_col7\" class=\"data row9 col7\" >-0.02</td>\n",
       "                        <td id=\"T_f9d0dba7_1791_11ec_a5af_c0b5d7c03310row9_col8\" class=\"data row9 col8\" >-0.00</td>\n",
       "                        <td id=\"T_f9d0dba7_1791_11ec_a5af_c0b5d7c03310row9_col9\" class=\"data row9 col9\" >1.00</td>\n",
       "                        <td id=\"T_f9d0dba7_1791_11ec_a5af_c0b5d7c03310row9_col10\" class=\"data row9 col10\" >0.26</td>\n",
       "                        <td id=\"T_f9d0dba7_1791_11ec_a5af_c0b5d7c03310row9_col11\" class=\"data row9 col11\" >-0.01</td>\n",
       "            </tr>\n",
       "            <tr>\n",
       "                        <th id=\"T_f9d0dba7_1791_11ec_a5af_c0b5d7c03310level0_row10\" class=\"row_heading level0 row10\" >same_language</th>\n",
       "                        <td id=\"T_f9d0dba7_1791_11ec_a5af_c0b5d7c03310row10_col0\" class=\"data row10 col0\" >-0.03</td>\n",
       "                        <td id=\"T_f9d0dba7_1791_11ec_a5af_c0b5d7c03310row10_col1\" class=\"data row10 col1\" >-0.02</td>\n",
       "                        <td id=\"T_f9d0dba7_1791_11ec_a5af_c0b5d7c03310row10_col2\" class=\"data row10 col2\" >-0.02</td>\n",
       "                        <td id=\"T_f9d0dba7_1791_11ec_a5af_c0b5d7c03310row10_col3\" class=\"data row10 col3\" >-0.05</td>\n",
       "                        <td id=\"T_f9d0dba7_1791_11ec_a5af_c0b5d7c03310row10_col4\" class=\"data row10 col4\" >0.04</td>\n",
       "                        <td id=\"T_f9d0dba7_1791_11ec_a5af_c0b5d7c03310row10_col5\" class=\"data row10 col5\" >-0.02</td>\n",
       "                        <td id=\"T_f9d0dba7_1791_11ec_a5af_c0b5d7c03310row10_col6\" class=\"data row10 col6\" >0.03</td>\n",
       "                        <td id=\"T_f9d0dba7_1791_11ec_a5af_c0b5d7c03310row10_col7\" class=\"data row10 col7\" >-0.02</td>\n",
       "                        <td id=\"T_f9d0dba7_1791_11ec_a5af_c0b5d7c03310row10_col8\" class=\"data row10 col8\" >0.01</td>\n",
       "                        <td id=\"T_f9d0dba7_1791_11ec_a5af_c0b5d7c03310row10_col9\" class=\"data row10 col9\" >0.26</td>\n",
       "                        <td id=\"T_f9d0dba7_1791_11ec_a5af_c0b5d7c03310row10_col10\" class=\"data row10 col10\" >1.00</td>\n",
       "                        <td id=\"T_f9d0dba7_1791_11ec_a5af_c0b5d7c03310row10_col11\" class=\"data row10 col11\" >-0.02</td>\n",
       "            </tr>\n",
       "            <tr>\n",
       "                        <th id=\"T_f9d0dba7_1791_11ec_a5af_c0b5d7c03310level0_row11\" class=\"row_heading level0 row11\" >same_address</th>\n",
       "                        <td id=\"T_f9d0dba7_1791_11ec_a5af_c0b5d7c03310row11_col0\" class=\"data row11 col0\" >0.08</td>\n",
       "                        <td id=\"T_f9d0dba7_1791_11ec_a5af_c0b5d7c03310row11_col1\" class=\"data row11 col1\" >0.01</td>\n",
       "                        <td id=\"T_f9d0dba7_1791_11ec_a5af_c0b5d7c03310row11_col2\" class=\"data row11 col2\" >0.04</td>\n",
       "                        <td id=\"T_f9d0dba7_1791_11ec_a5af_c0b5d7c03310row11_col3\" class=\"data row11 col3\" >0.05</td>\n",
       "                        <td id=\"T_f9d0dba7_1791_11ec_a5af_c0b5d7c03310row11_col4\" class=\"data row11 col4\" >0.05</td>\n",
       "                        <td id=\"T_f9d0dba7_1791_11ec_a5af_c0b5d7c03310row11_col5\" class=\"data row11 col5\" >0.10</td>\n",
       "                        <td id=\"T_f9d0dba7_1791_11ec_a5af_c0b5d7c03310row11_col6\" class=\"data row11 col6\" >0.01</td>\n",
       "                        <td id=\"T_f9d0dba7_1791_11ec_a5af_c0b5d7c03310row11_col7\" class=\"data row11 col7\" >-0.02</td>\n",
       "                        <td id=\"T_f9d0dba7_1791_11ec_a5af_c0b5d7c03310row11_col8\" class=\"data row11 col8\" >-0.01</td>\n",
       "                        <td id=\"T_f9d0dba7_1791_11ec_a5af_c0b5d7c03310row11_col9\" class=\"data row11 col9\" >-0.01</td>\n",
       "                        <td id=\"T_f9d0dba7_1791_11ec_a5af_c0b5d7c03310row11_col10\" class=\"data row11 col10\" >-0.02</td>\n",
       "                        <td id=\"T_f9d0dba7_1791_11ec_a5af_c0b5d7c03310row11_col11\" class=\"data row11 col11\" >1.00</td>\n",
       "            </tr>\n",
       "    </tbody></table>"
      ],
      "text/plain": [
       "<pandas.io.formats.style.Styler at 0x269d4154610>"
      ]
     },
     "execution_count": 19,
     "metadata": {},
     "output_type": "execute_result"
    }
   ],
   "source": [
    "# Analysing the correlation coefficient to identify the correlation among different independent/dependent variables.\n",
    "\n",
    "# Creating correlation \n",
    "corr = data_transformed.corr()\n",
    "\n",
    "cmap = cmap=sns.diverging_palette(5, 250, as_cmap=True)\n",
    "\n",
    "def magnify():\n",
    "    return [dict(selector=\"th\",\n",
    "                 props=[(\"font-size\", \"7pt\")]),\n",
    "            dict(selector=\"td\",\n",
    "                 props=[('padding', \"0em 0em\")]),\n",
    "            dict(selector=\"th:hover\",\n",
    "                 props=[(\"font-size\", \"12pt\")]),\n",
    "            dict(selector=\"tr:hover td:hover\",\n",
    "                 props=[('max-width', '200px'),\n",
    "                        ('font-size', '12pt')])\n",
    "]\n",
    "\n",
    "corr.style.background_gradient(cmap, axis=1)\\\n",
    "    .set_properties(**{'max-width': '80px', 'font-size': '10pt'})\\\n",
    "    .set_caption(\"Hover to magify\")\\\n",
    "    .set_precision(2)\\\n",
    "    .set_table_styles(magnify())"
   ]
  },
  {
   "cell_type": "markdown",
   "metadata": {},
   "source": [
    "##### Observations - \n",
    "        1. From the correlation map above, it is very obvious that the \"kid\" and \"is_ped\" variables are highly correlated. This could be mainly because, for the kids, the automatically assigned doctoro will be a pediatrician. Therefore, one of these variables can be dropped. Therefore, the \"kid\" attribute will be dropped for further analysis."
   ]
  },
  {
   "cell_type": "code",
   "execution_count": 20,
   "metadata": {},
   "outputs": [
    {
     "name": "stdout",
     "output_type": "stream",
     "text": [
      "The dimensions of the dataset: (3130, 11)\n",
      "The columns in the dataset: ['outcome', 'distance', 'visit_count', 'tier', 'fqhc', 'pcp_lookback', 'family_assignment', 'is_ped', 'same_gender', 'same_language', 'same_address']\n"
     ]
    }
   ],
   "source": [
    "data_transformed = data_transformed.drop([\"kid\"], axis = 1)\n",
    "displaycolumns(data_transformed)"
   ]
  },
  {
   "cell_type": "markdown",
   "metadata": {},
   "source": [
    "### Outlier identification and removal - continuous variable"
   ]
  },
  {
   "cell_type": "code",
   "execution_count": 21,
   "metadata": {},
   "outputs": [
    {
     "data": {
      "text/plain": [
       "<AxesSubplot:>"
      ]
     },
     "execution_count": 21,
     "metadata": {},
     "output_type": "execute_result"
    },
    {
     "data": {
      "image/png": "[encoded data removed]",
      "text/plain": [
       "<Figure size 1080x720 with 1 Axes>"
      ]
     },
     "metadata": {
      "needs_background": "light"
     },
     "output_type": "display_data"
    }
   ],
   "source": [
    "# Creating the box-plot to check outlier in the data.\n",
    "\n",
    "data_transformed.boxplot(figsize = (15, 10))"
   ]
  },
  {
   "cell_type": "markdown",
   "metadata": {},
   "source": [
    "##### * Since the dataset are slightly righ-skewed, instead of 1.5*IQR, > 3 times Standard Deviation method will be used to identify the outlier."
   ]
  },
  {
   "cell_type": "code",
   "execution_count": 22,
   "metadata": {},
   "outputs": [],
   "source": [
    "# Creating a function to detect outlier in the dataset\n",
    "\n",
    "def detect_outlier(data, col):\n",
    "  mean = np.mean(data[col])\n",
    "  stddev = np.std(data[col])\n",
    "  indices = []\n",
    "  for index,value in data[col].iteritems():\n",
    "    z_score = (value-mean)/stddev\n",
    "    if abs(z_score) > 3:\n",
    "      indices.append(index)\n",
    "  return indices"
   ]
  },
  {
   "cell_type": "code",
   "execution_count": 23,
   "metadata": {},
   "outputs": [
    {
     "name": "stdout",
     "output_type": "stream",
     "text": [
      "(3007, 11)\n"
     ]
    }
   ],
   "source": [
    "# Identifying and dropping the outliers.\n",
    "\n",
    "outliers_distance = detect_outlier(data_transformed,\"distance\")\n",
    "outliers_visit_count = detect_outlier(data_transformed,\"visit_count\")\n",
    "data_transformed.drop(outliers_distance,inplace=True)\n",
    "\n",
    "#Drop the indices that are common for both the outliers\n",
    "\n",
    "outlier_visit_count = [index for index in outliers_visit_count if index not in outliers_distance] \n",
    "data_transformed.drop(outlier_visit_count,inplace=True)\n",
    "\n",
    "print(data_transformed.shape)"
   ]
  },
  {
   "cell_type": "markdown",
   "metadata": {},
   "source": [
    "### Data discretization"
   ]
  },
  {
   "cell_type": "code",
   "execution_count": 24,
   "metadata": {},
   "outputs": [
    {
     "name": "stdout",
     "output_type": "stream",
     "text": [
      "            var_names     var_type\n",
      "0             outcome  Categorical\n",
      "1            distance   Continuous\n",
      "2         visit_count   Continuous\n",
      "3                tier  Categorical\n",
      "4                fqhc  Categorical\n",
      "5        pcp_lookback  Categorical\n",
      "6   family_assignment  Categorical\n",
      "7              is_ped  Categorical\n",
      "8         same_gender  Categorical\n",
      "9       same_language  Categorical\n",
      "10       same_address  Categorical\n"
     ]
    }
   ],
   "source": [
    "# This step is to discretize and encode the continuous variable into certain classes.\n",
    "\n",
    "# Identifying the continuous and categorical features -\n",
    "data_transformed2 = data_transformed.copy(deep = True)\n",
    "\n",
    "report = {}\n",
    "report[\"var_names\"] = []\n",
    "report[\"var_type\"] = []\n",
    "\n",
    "for col in data_transformed2.columns:\n",
    "    if len(data_transformed2[col].unique()) < 5:\n",
    "        report[\"var_names\"].append(col)\n",
    "        report[\"var_type\"].append(\"Categorical\")\n",
    "    else:\n",
    "        report[\"var_names\"].append(col)\n",
    "        report[\"var_type\"].append(\"Continuous\")\n",
    "    \n",
    "print(pd.DataFrame(report))\n",
    "\n",
    "# Discretization of continuous features -\n",
    "discretizer = KBinsDiscretizer(n_bins = 5, encode = 'ordinal', strategy = 'uniform')\n",
    "\n",
    "data_transformed2[\"distance\"] = discretizer.fit_transform(data_transformed2[[\"distance\"]])\n",
    "data_transformed2[\"visit_count\"] = discretizer.fit_transform(data_transformed2[[\"visit_count\"]])"
   ]
  },
  {
   "cell_type": "code",
   "execution_count": 25,
   "metadata": {},
   "outputs": [
    {
     "name": "stdout",
     "output_type": "stream",
     "text": [
      "          Column_Name  Num_Unique\n",
      "0             outcome           2\n",
      "4                fqhc           2\n",
      "5        pcp_lookback           2\n",
      "6   family_assignment           2\n",
      "7              is_ped           2\n",
      "8         same_gender           2\n",
      "9       same_language           2\n",
      "10       same_address           2\n",
      "2         visit_count           4\n",
      "3                tier           4\n",
      "1            distance           5\n"
     ]
    }
   ],
   "source": [
    "# Identifying the number of labels after discretization.\n",
    "\n",
    "unique_counts = pd.DataFrame.from_records([(col, data_transformed2[col].nunique()) for col in data_transformed2.columns],\n",
    "                          columns=['Column_Name', 'Num_Unique']).sort_values(by=['Num_Unique'])\n",
    "\n",
    "print(unique_counts)"
   ]
  },
  {
   "cell_type": "markdown",
   "metadata": {},
   "source": [
    "##### After discretization, the \"distance\" and the \"visit_count\" attributes are also converted into categorical with 5 and 4 labels respectively. The five labels of distance attribute represents near, very near, reachable, far, very far. The four lables of \"visit_count\" represents low, medium, high and very high visit counts. "
   ]
  },
  {
   "cell_type": "code",
   "execution_count": 26,
   "metadata": {},
   "outputs": [
    {
     "name": "stdout",
     "output_type": "stream",
     "text": [
      "The 'distance' attribute values before discretization:  [0.06944404 0.37049229 0.29698335 ... 0.89492379 0.495494   2.56087143]\n",
      "The 'distance' attribute values after discretization:  [0. 1. 3. 2. 4.]\n",
      "The 'visit_count' attribute values before discretization:  [0.         1.79175947 1.60943791 2.30258509 2.07944154 1.94591015\n",
      " 1.09861229 1.38629436 2.39789527 2.19722458]\n",
      "The 'visit_count' attribute values after discretization:  [0. 3. 4. 2.]\n",
      "The 'tier' attribute values:  [2. 1. 3. 4.]\n"
     ]
    }
   ],
   "source": [
    "print(\"The 'distance' attribute values before discretization: \", pd.unique(data_transformed.distance))\n",
    "print(\"The 'distance' attribute values after discretization: \", pd.unique(data_transformed2.distance))\n",
    "print(\"The 'visit_count' attribute values before discretization: \", pd.unique(data_transformed.visit_count))\n",
    "print(\"The 'visit_count' attribute values after discretization: \", pd.unique(data_transformed2.visit_count))\n",
    "print(\"The 'tier' attribute values: \", pd.unique(data_transformed.tier))"
   ]
  },
  {
   "cell_type": "code",
   "execution_count": 27,
   "metadata": {},
   "outputs": [
    {
     "data": {
      "text/html": [
       "<div>\n",
       "<style scoped>\n",
       "    .dataframe tbody tr th:only-of-type {\n",
       "        vertical-align: middle;\n",
       "    }\n",
       "\n",
       "    .dataframe tbody tr th {\n",
       "        vertical-align: top;\n",
       "    }\n",
       "\n",
       "    .dataframe thead th {\n",
       "        text-align: right;\n",
       "    }\n",
       "</style>\n",
       "<table border=\"1\" class=\"dataframe\">\n",
       "  <thead>\n",
       "    <tr style=\"text-align: right;\">\n",
       "      <th></th>\n",
       "      <th>outcome</th>\n",
       "      <th>distance</th>\n",
       "      <th>visit_count</th>\n",
       "      <th>tier</th>\n",
       "      <th>fqhc</th>\n",
       "      <th>pcp_lookback</th>\n",
       "      <th>family_assignment</th>\n",
       "      <th>is_ped</th>\n",
       "      <th>same_gender</th>\n",
       "      <th>same_language</th>\n",
       "      <th>same_address</th>\n",
       "    </tr>\n",
       "    <tr>\n",
       "      <th>testindex</th>\n",
       "      <th></th>\n",
       "      <th></th>\n",
       "      <th></th>\n",
       "      <th></th>\n",
       "      <th></th>\n",
       "      <th></th>\n",
       "      <th></th>\n",
       "      <th></th>\n",
       "      <th></th>\n",
       "      <th></th>\n",
       "      <th></th>\n",
       "    </tr>\n",
       "  </thead>\n",
       "  <tbody>\n",
       "    <tr>\n",
       "      <th>0</th>\n",
       "      <td>0</td>\n",
       "      <td>0.0</td>\n",
       "      <td>0.0</td>\n",
       "      <td>2.0</td>\n",
       "      <td>0</td>\n",
       "      <td>0</td>\n",
       "      <td>0</td>\n",
       "      <td>0</td>\n",
       "      <td>1</td>\n",
       "      <td>0</td>\n",
       "      <td>0</td>\n",
       "    </tr>\n",
       "    <tr>\n",
       "      <th>2</th>\n",
       "      <td>0</td>\n",
       "      <td>0.0</td>\n",
       "      <td>0.0</td>\n",
       "      <td>1.0</td>\n",
       "      <td>0</td>\n",
       "      <td>0</td>\n",
       "      <td>1</td>\n",
       "      <td>1</td>\n",
       "      <td>0</td>\n",
       "      <td>0</td>\n",
       "      <td>0</td>\n",
       "    </tr>\n",
       "    <tr>\n",
       "      <th>5</th>\n",
       "      <td>0</td>\n",
       "      <td>0.0</td>\n",
       "      <td>0.0</td>\n",
       "      <td>1.0</td>\n",
       "      <td>0</td>\n",
       "      <td>1</td>\n",
       "      <td>0</td>\n",
       "      <td>0</td>\n",
       "      <td>1</td>\n",
       "      <td>0</td>\n",
       "      <td>0</td>\n",
       "    </tr>\n",
       "    <tr>\n",
       "      <th>6</th>\n",
       "      <td>0</td>\n",
       "      <td>1.0</td>\n",
       "      <td>0.0</td>\n",
       "      <td>1.0</td>\n",
       "      <td>0</td>\n",
       "      <td>0</td>\n",
       "      <td>1</td>\n",
       "      <td>1</td>\n",
       "      <td>1</td>\n",
       "      <td>0</td>\n",
       "      <td>0</td>\n",
       "    </tr>\n",
       "    <tr>\n",
       "      <th>7</th>\n",
       "      <td>1</td>\n",
       "      <td>3.0</td>\n",
       "      <td>0.0</td>\n",
       "      <td>1.0</td>\n",
       "      <td>0</td>\n",
       "      <td>0</td>\n",
       "      <td>1</td>\n",
       "      <td>0</td>\n",
       "      <td>0</td>\n",
       "      <td>0</td>\n",
       "      <td>0</td>\n",
       "    </tr>\n",
       "    <tr>\n",
       "      <th>...</th>\n",
       "      <td>...</td>\n",
       "      <td>...</td>\n",
       "      <td>...</td>\n",
       "      <td>...</td>\n",
       "      <td>...</td>\n",
       "      <td>...</td>\n",
       "      <td>...</td>\n",
       "      <td>...</td>\n",
       "      <td>...</td>\n",
       "      <td>...</td>\n",
       "      <td>...</td>\n",
       "    </tr>\n",
       "    <tr>\n",
       "      <th>4991</th>\n",
       "      <td>0</td>\n",
       "      <td>1.0</td>\n",
       "      <td>0.0</td>\n",
       "      <td>1.0</td>\n",
       "      <td>0</td>\n",
       "      <td>1</td>\n",
       "      <td>1</td>\n",
       "      <td>1</td>\n",
       "      <td>0</td>\n",
       "      <td>0</td>\n",
       "      <td>0</td>\n",
       "    </tr>\n",
       "    <tr>\n",
       "      <th>4992</th>\n",
       "      <td>0</td>\n",
       "      <td>0.0</td>\n",
       "      <td>0.0</td>\n",
       "      <td>1.0</td>\n",
       "      <td>0</td>\n",
       "      <td>0</td>\n",
       "      <td>0</td>\n",
       "      <td>0</td>\n",
       "      <td>1</td>\n",
       "      <td>0</td>\n",
       "      <td>0</td>\n",
       "    </tr>\n",
       "    <tr>\n",
       "      <th>4994</th>\n",
       "      <td>0</td>\n",
       "      <td>1.0</td>\n",
       "      <td>0.0</td>\n",
       "      <td>3.0</td>\n",
       "      <td>0</td>\n",
       "      <td>1</td>\n",
       "      <td>0</td>\n",
       "      <td>0</td>\n",
       "      <td>1</td>\n",
       "      <td>0</td>\n",
       "      <td>1</td>\n",
       "    </tr>\n",
       "    <tr>\n",
       "      <th>4999</th>\n",
       "      <td>0</td>\n",
       "      <td>0.0</td>\n",
       "      <td>0.0</td>\n",
       "      <td>1.0</td>\n",
       "      <td>1</td>\n",
       "      <td>0</td>\n",
       "      <td>1</td>\n",
       "      <td>1</td>\n",
       "      <td>0</td>\n",
       "      <td>0</td>\n",
       "      <td>0</td>\n",
       "    </tr>\n",
       "    <tr>\n",
       "      <th>5000</th>\n",
       "      <td>0</td>\n",
       "      <td>4.0</td>\n",
       "      <td>0.0</td>\n",
       "      <td>4.0</td>\n",
       "      <td>0</td>\n",
       "      <td>0</td>\n",
       "      <td>0</td>\n",
       "      <td>0</td>\n",
       "      <td>0</td>\n",
       "      <td>0</td>\n",
       "      <td>0</td>\n",
       "    </tr>\n",
       "  </tbody>\n",
       "</table>\n",
       "<p>3007 rows × 11 columns</p>\n",
       "</div>"
      ],
      "text/plain": [
       "           outcome  distance  visit_count  tier  fqhc  pcp_lookback  \\\n",
       "testindex                                                             \n",
       "0                0       0.0          0.0   2.0     0             0   \n",
       "2                0       0.0          0.0   1.0     0             0   \n",
       "5                0       0.0          0.0   1.0     0             1   \n",
       "6                0       1.0          0.0   1.0     0             0   \n",
       "7                1       3.0          0.0   1.0     0             0   \n",
       "...            ...       ...          ...   ...   ...           ...   \n",
       "4991             0       1.0          0.0   1.0     0             1   \n",
       "4992             0       0.0          0.0   1.0     0             0   \n",
       "4994             0       1.0          0.0   3.0     0             1   \n",
       "4999             0       0.0          0.0   1.0     1             0   \n",
       "5000             0       4.0          0.0   4.0     0             0   \n",
       "\n",
       "           family_assignment  is_ped  same_gender  same_language  same_address  \n",
       "testindex                                                                       \n",
       "0                          0       0            1              0             0  \n",
       "2                          1       1            0              0             0  \n",
       "5                          0       0            1              0             0  \n",
       "6                          1       1            1              0             0  \n",
       "7                          1       0            0              0             0  \n",
       "...                      ...     ...          ...            ...           ...  \n",
       "4991                       1       1            0              0             0  \n",
       "4992                       0       0            1              0             0  \n",
       "4994                       0       0            1              0             1  \n",
       "4999                       1       1            0              0             0  \n",
       "5000                       0       0            0              0             0  \n",
       "\n",
       "[3007 rows x 11 columns]"
      ]
     },
     "execution_count": 27,
     "metadata": {},
     "output_type": "execute_result"
    }
   ],
   "source": [
    "data_transformed2"
   ]
  },
  {
   "cell_type": "markdown",
   "metadata": {},
   "source": [
    "### Data transformation - min-max normalization (0 to 1)"
   ]
  },
  {
   "cell_type": "code",
   "execution_count": 28,
   "metadata": {},
   "outputs": [],
   "source": [
    "# In order to have more stable and accurate model-generation, it is important to scale the variables in order to make \n",
    "# the problem easier to learn.\n",
    "\n",
    "data_transformed3 = data_transformed2.copy(deep = True)\n",
    "\n",
    "scaler = MinMaxScaler(feature_range = (0, 1))\n",
    "\n",
    "data_transformed3[[\"visit_count\", \"tier\", \"distance\"]] = scaler.fit_transform(data_transformed2[[\"visit_count\", \"tier\", \"distance\"]])"
   ]
  },
  {
   "cell_type": "code",
   "execution_count": 29,
   "metadata": {},
   "outputs": [
    {
     "data": {
      "text/html": [
       "<div>\n",
       "<style scoped>\n",
       "    .dataframe tbody tr th:only-of-type {\n",
       "        vertical-align: middle;\n",
       "    }\n",
       "\n",
       "    .dataframe tbody tr th {\n",
       "        vertical-align: top;\n",
       "    }\n",
       "\n",
       "    .dataframe thead th {\n",
       "        text-align: right;\n",
       "    }\n",
       "</style>\n",
       "<table border=\"1\" class=\"dataframe\">\n",
       "  <thead>\n",
       "    <tr style=\"text-align: right;\">\n",
       "      <th></th>\n",
       "      <th>visit_count</th>\n",
       "      <th>tier</th>\n",
       "      <th>distance</th>\n",
       "    </tr>\n",
       "    <tr>\n",
       "      <th>testindex</th>\n",
       "      <th></th>\n",
       "      <th></th>\n",
       "      <th></th>\n",
       "    </tr>\n",
       "  </thead>\n",
       "  <tbody>\n",
       "    <tr>\n",
       "      <th>0</th>\n",
       "      <td>0.00</td>\n",
       "      <td>0.333333</td>\n",
       "      <td>0.00</td>\n",
       "    </tr>\n",
       "    <tr>\n",
       "      <th>2</th>\n",
       "      <td>0.00</td>\n",
       "      <td>0.000000</td>\n",
       "      <td>0.00</td>\n",
       "    </tr>\n",
       "    <tr>\n",
       "      <th>5</th>\n",
       "      <td>0.00</td>\n",
       "      <td>0.000000</td>\n",
       "      <td>0.00</td>\n",
       "    </tr>\n",
       "    <tr>\n",
       "      <th>6</th>\n",
       "      <td>0.00</td>\n",
       "      <td>0.000000</td>\n",
       "      <td>0.25</td>\n",
       "    </tr>\n",
       "    <tr>\n",
       "      <th>7</th>\n",
       "      <td>0.00</td>\n",
       "      <td>0.000000</td>\n",
       "      <td>0.75</td>\n",
       "    </tr>\n",
       "    <tr>\n",
       "      <th>9</th>\n",
       "      <td>0.00</td>\n",
       "      <td>0.333333</td>\n",
       "      <td>0.50</td>\n",
       "    </tr>\n",
       "    <tr>\n",
       "      <th>10</th>\n",
       "      <td>0.00</td>\n",
       "      <td>0.000000</td>\n",
       "      <td>0.25</td>\n",
       "    </tr>\n",
       "    <tr>\n",
       "      <th>11</th>\n",
       "      <td>0.00</td>\n",
       "      <td>0.000000</td>\n",
       "      <td>0.50</td>\n",
       "    </tr>\n",
       "    <tr>\n",
       "      <th>13</th>\n",
       "      <td>0.00</td>\n",
       "      <td>0.000000</td>\n",
       "      <td>0.75</td>\n",
       "    </tr>\n",
       "    <tr>\n",
       "      <th>14</th>\n",
       "      <td>0.75</td>\n",
       "      <td>0.000000</td>\n",
       "      <td>0.00</td>\n",
       "    </tr>\n",
       "  </tbody>\n",
       "</table>\n",
       "</div>"
      ],
      "text/plain": [
       "           visit_count      tier  distance\n",
       "testindex                                 \n",
       "0                 0.00  0.333333      0.00\n",
       "2                 0.00  0.000000      0.00\n",
       "5                 0.00  0.000000      0.00\n",
       "6                 0.00  0.000000      0.25\n",
       "7                 0.00  0.000000      0.75\n",
       "9                 0.00  0.333333      0.50\n",
       "10                0.00  0.000000      0.25\n",
       "11                0.00  0.000000      0.50\n",
       "13                0.00  0.000000      0.75\n",
       "14                0.75  0.000000      0.00"
      ]
     },
     "execution_count": 29,
     "metadata": {},
     "output_type": "execute_result"
    }
   ],
   "source": [
    "data_transformed3[[\"visit_count\", \"tier\", \"distance\"]].head(10)"
   ]
  },
  {
   "cell_type": "markdown",
   "metadata": {},
   "source": [
    "## 3. Model training"
   ]
  },
  {
   "cell_type": "markdown",
   "metadata": {},
   "source": [
    "### Models selected for the problem\n",
    "\n",
    "##### The following models are selected to be evaluated\n",
    "        1. Logistic Regression\n",
    "        2. Decision Tree based method\n",
    "        3. k-nearest Neighbors\n",
    "        4. Naïve Bayes\n",
    "        5. Support Vector Machine"
   ]
  },
  {
   "cell_type": "code",
   "execution_count": 30,
   "metadata": {},
   "outputs": [],
   "source": [
    "# SPlit-out test train data\n",
    "\n",
    "array = data_transformed2.values\n",
    "X = array[:,1:11]\n",
    "Y = array[:,0]\n",
    "X_train, X_test, Y_train, Y_test = train_test_split(X, Y, test_size = 0.3, random_state = 1)"
   ]
  },
  {
   "cell_type": "markdown",
   "metadata": {},
   "source": [
    "##### Learning the parameters of a prediction function and testing it on the same data is a methodological mistake: a model that would just repeat the labels of the samples that it has just seen would have a perfect score but would fail to predict anything useful on yet-unseen data. This situation is called overfitting. To avoid it, it is common practice when performing a (supervised) machine learning experiment to hold out part of the available data as a test set (i.e. dividing the dataset into train and test sets).\n",
    "\n",
    "##### When evaluating different settings (“hyperparameters”) for estimators, there is still a risk of overfitting on the test set because the parameters can be tweaked until the estimator performs optimally. This way, knowledge about the test set can “leak” into the model and evaluation metrics no longer report on generalization performance. To solve this problem, yet another part of the dataset can be held out as a so-called “validation set”: training proceeds on the training set, after which evaluation is done on the validation set, and when the experiment seems to be successful, final evaluation can be done on the test set.\n",
    "\n",
    "##### However, by partitioning the available data into three sets, we drastically reduce the number of samples which can be used for learning the model, and the results can depend on a particular random choice for the pair of (train, validation) sets.\n",
    "\n",
    "##### A solution to this problem is a procedure called cross-validation (CV for short). A test set should still be held out for final evaluation, but the validation set is no longer needed when doing CV. In the basic approach, called k-fold CV, the training set is split into k smaller sets. The following procedure is followed for each of the k “folds”:\n",
    "\n",
    "###### 1. A model is trained using  of the folds as training data;\n",
    "\n",
    "###### 2. the resulting model is validated on the remaining part of the data (i.e., it is used as a test set to compute a performance measure such as accuracy).\n",
    "\n",
    "##### The performance measure reported by k-fold cross-validation is then the average of the values computed in the loop. This approach can be computationally expensive, but does not waste too much data (as is the case when fixing an arbitrary validation set), which is a major advantage in problems such as inverse inference where the number of samples is very small.\n",
    "\n",
    "##### In our classification problem, there is a large imbalance in the distribution of the target classes. In such cases it is recommended to use stratified sampling as implemented in StratifiedKFold to ensure that relative class frequencies is approximately preserved in each train and validation fold."
   ]
  },
  {
   "cell_type": "code",
   "execution_count": 31,
   "metadata": {},
   "outputs": [
    {
     "name": "stdout",
     "output_type": "stream",
     "text": [
      "LR: 0.962453 (0.001407)\n",
      "CART: 0.948379 (0.011886)\n",
      "KNN: 0.963118 (0.003088)\n",
      "NB-G: 0.896353 (0.116208)\n"
     ]
    },
    {
     "name": "stderr",
     "output_type": "stream",
     "text": [
      "C:\\Users\\ch065ba\\Anaconda3\\lib\\site-packages\\sklearn\\svm\\_base.py:985: ConvergenceWarning: Liblinear failed to converge, increase the number of iterations.\n",
      "  warnings.warn(\"Liblinear failed to converge, increase \"\n",
      "C:\\Users\\ch065ba\\Anaconda3\\lib\\site-packages\\sklearn\\svm\\_base.py:985: ConvergenceWarning: Liblinear failed to converge, increase the number of iterations.\n",
      "  warnings.warn(\"Liblinear failed to converge, increase \"\n",
      "C:\\Users\\ch065ba\\Anaconda3\\lib\\site-packages\\sklearn\\svm\\_base.py:985: ConvergenceWarning: Liblinear failed to converge, increase the number of iterations.\n",
      "  warnings.warn(\"Liblinear failed to converge, increase \"\n",
      "C:\\Users\\ch065ba\\Anaconda3\\lib\\site-packages\\sklearn\\svm\\_base.py:985: ConvergenceWarning: Liblinear failed to converge, increase the number of iterations.\n",
      "  warnings.warn(\"Liblinear failed to converge, increase \"\n",
      "C:\\Users\\ch065ba\\Anaconda3\\lib\\site-packages\\sklearn\\svm\\_base.py:985: ConvergenceWarning: Liblinear failed to converge, increase the number of iterations.\n",
      "  warnings.warn(\"Liblinear failed to converge, increase \"\n",
      "C:\\Users\\ch065ba\\Anaconda3\\lib\\site-packages\\sklearn\\svm\\_base.py:985: ConvergenceWarning: Liblinear failed to converge, increase the number of iterations.\n",
      "  warnings.warn(\"Liblinear failed to converge, increase \"\n",
      "C:\\Users\\ch065ba\\Anaconda3\\lib\\site-packages\\sklearn\\svm\\_base.py:985: ConvergenceWarning: Liblinear failed to converge, increase the number of iterations.\n",
      "  warnings.warn(\"Liblinear failed to converge, increase \"\n",
      "C:\\Users\\ch065ba\\Anaconda3\\lib\\site-packages\\sklearn\\svm\\_base.py:985: ConvergenceWarning: Liblinear failed to converge, increase the number of iterations.\n",
      "  warnings.warn(\"Liblinear failed to converge, increase \"\n",
      "C:\\Users\\ch065ba\\Anaconda3\\lib\\site-packages\\sklearn\\svm\\_base.py:985: ConvergenceWarning: Liblinear failed to converge, increase the number of iterations.\n",
      "  warnings.warn(\"Liblinear failed to converge, increase \"\n",
      "C:\\Users\\ch065ba\\Anaconda3\\lib\\site-packages\\sklearn\\svm\\_base.py:985: ConvergenceWarning: Liblinear failed to converge, increase the number of iterations.\n",
      "  warnings.warn(\"Liblinear failed to converge, increase \"\n",
      "C:\\Users\\ch065ba\\Anaconda3\\lib\\site-packages\\sklearn\\svm\\_base.py:985: ConvergenceWarning: Liblinear failed to converge, increase the number of iterations.\n",
      "  warnings.warn(\"Liblinear failed to converge, increase \"\n",
      "C:\\Users\\ch065ba\\Anaconda3\\lib\\site-packages\\sklearn\\svm\\_base.py:985: ConvergenceWarning: Liblinear failed to converge, increase the number of iterations.\n",
      "  warnings.warn(\"Liblinear failed to converge, increase \"\n",
      "C:\\Users\\ch065ba\\Anaconda3\\lib\\site-packages\\sklearn\\svm\\_base.py:985: ConvergenceWarning: Liblinear failed to converge, increase the number of iterations.\n",
      "  warnings.warn(\"Liblinear failed to converge, increase \"\n",
      "C:\\Users\\ch065ba\\Anaconda3\\lib\\site-packages\\sklearn\\svm\\_base.py:985: ConvergenceWarning: Liblinear failed to converge, increase the number of iterations.\n",
      "  warnings.warn(\"Liblinear failed to converge, increase \"\n",
      "C:\\Users\\ch065ba\\Anaconda3\\lib\\site-packages\\sklearn\\svm\\_base.py:985: ConvergenceWarning: Liblinear failed to converge, increase the number of iterations.\n",
      "  warnings.warn(\"Liblinear failed to converge, increase \"\n",
      "C:\\Users\\ch065ba\\Anaconda3\\lib\\site-packages\\sklearn\\svm\\_base.py:985: ConvergenceWarning: Liblinear failed to converge, increase the number of iterations.\n",
      "  warnings.warn(\"Liblinear failed to converge, increase \"\n",
      "C:\\Users\\ch065ba\\Anaconda3\\lib\\site-packages\\sklearn\\svm\\_base.py:985: ConvergenceWarning: Liblinear failed to converge, increase the number of iterations.\n",
      "  warnings.warn(\"Liblinear failed to converge, increase \"\n",
      "C:\\Users\\ch065ba\\Anaconda3\\lib\\site-packages\\sklearn\\svm\\_base.py:985: ConvergenceWarning: Liblinear failed to converge, increase the number of iterations.\n",
      "  warnings.warn(\"Liblinear failed to converge, increase \"\n",
      "C:\\Users\\ch065ba\\Anaconda3\\lib\\site-packages\\sklearn\\svm\\_base.py:985: ConvergenceWarning: Liblinear failed to converge, increase the number of iterations.\n",
      "  warnings.warn(\"Liblinear failed to converge, increase \"\n",
      "C:\\Users\\ch065ba\\Anaconda3\\lib\\site-packages\\sklearn\\svm\\_base.py:985: ConvergenceWarning: Liblinear failed to converge, increase the number of iterations.\n",
      "  warnings.warn(\"Liblinear failed to converge, increase \"\n",
      "C:\\Users\\ch065ba\\Anaconda3\\lib\\site-packages\\sklearn\\svm\\_base.py:985: ConvergenceWarning: Liblinear failed to converge, increase the number of iterations.\n",
      "  warnings.warn(\"Liblinear failed to converge, increase \"\n",
      "C:\\Users\\ch065ba\\Anaconda3\\lib\\site-packages\\sklearn\\svm\\_base.py:985: ConvergenceWarning: Liblinear failed to converge, increase the number of iterations.\n",
      "  warnings.warn(\"Liblinear failed to converge, increase \"\n",
      "C:\\Users\\ch065ba\\Anaconda3\\lib\\site-packages\\sklearn\\svm\\_base.py:985: ConvergenceWarning: Liblinear failed to converge, increase the number of iterations.\n",
      "  warnings.warn(\"Liblinear failed to converge, increase \"\n",
      "C:\\Users\\ch065ba\\Anaconda3\\lib\\site-packages\\sklearn\\svm\\_base.py:985: ConvergenceWarning: Liblinear failed to converge, increase the number of iterations.\n",
      "  warnings.warn(\"Liblinear failed to converge, increase \"\n",
      "C:\\Users\\ch065ba\\Anaconda3\\lib\\site-packages\\sklearn\\svm\\_base.py:985: ConvergenceWarning: Liblinear failed to converge, increase the number of iterations.\n",
      "  warnings.warn(\"Liblinear failed to converge, increase \"\n",
      "C:\\Users\\ch065ba\\Anaconda3\\lib\\site-packages\\sklearn\\svm\\_base.py:985: ConvergenceWarning: Liblinear failed to converge, increase the number of iterations.\n",
      "  warnings.warn(\"Liblinear failed to converge, increase \"\n",
      "C:\\Users\\ch065ba\\Anaconda3\\lib\\site-packages\\sklearn\\svm\\_base.py:985: ConvergenceWarning: Liblinear failed to converge, increase the number of iterations.\n",
      "  warnings.warn(\"Liblinear failed to converge, increase \"\n",
      "C:\\Users\\ch065ba\\Anaconda3\\lib\\site-packages\\sklearn\\svm\\_base.py:985: ConvergenceWarning: Liblinear failed to converge, increase the number of iterations.\n",
      "  warnings.warn(\"Liblinear failed to converge, increase \"\n",
      "C:\\Users\\ch065ba\\Anaconda3\\lib\\site-packages\\sklearn\\svm\\_base.py:985: ConvergenceWarning: Liblinear failed to converge, increase the number of iterations.\n",
      "  warnings.warn(\"Liblinear failed to converge, increase \"\n",
      "C:\\Users\\ch065ba\\Anaconda3\\lib\\site-packages\\sklearn\\svm\\_base.py:985: ConvergenceWarning: Liblinear failed to converge, increase the number of iterations.\n",
      "  warnings.warn(\"Liblinear failed to converge, increase \"\n",
      "C:\\Users\\ch065ba\\Anaconda3\\lib\\site-packages\\sklearn\\svm\\_base.py:985: ConvergenceWarning: Liblinear failed to converge, increase the number of iterations.\n",
      "  warnings.warn(\"Liblinear failed to converge, increase \"\n",
      "C:\\Users\\ch065ba\\Anaconda3\\lib\\site-packages\\sklearn\\svm\\_base.py:985: ConvergenceWarning: Liblinear failed to converge, increase the number of iterations.\n",
      "  warnings.warn(\"Liblinear failed to converge, increase \"\n",
      "C:\\Users\\ch065ba\\Anaconda3\\lib\\site-packages\\sklearn\\svm\\_base.py:985: ConvergenceWarning: Liblinear failed to converge, increase the number of iterations.\n",
      "  warnings.warn(\"Liblinear failed to converge, increase \"\n",
      "C:\\Users\\ch065ba\\Anaconda3\\lib\\site-packages\\sklearn\\svm\\_base.py:985: ConvergenceWarning: Liblinear failed to converge, increase the number of iterations.\n",
      "  warnings.warn(\"Liblinear failed to converge, increase \"\n"
     ]
    },
    {
     "name": "stdout",
     "output_type": "stream",
     "text": [
      "SVM-LSVC: 0.962453 (0.001407)\n"
     ]
    },
    {
     "name": "stderr",
     "output_type": "stream",
     "text": [
      "C:\\Users\\ch065ba\\Anaconda3\\lib\\site-packages\\sklearn\\svm\\_base.py:985: ConvergenceWarning: Liblinear failed to converge, increase the number of iterations.\n",
      "  warnings.warn(\"Liblinear failed to converge, increase \"\n"
     ]
    }
   ],
   "source": [
    "# Spot Check Algorithm\n",
    "models = []\n",
    "models.append((\"LR\", LogisticRegression(solver = \"liblinear\", multi_class = \"auto\")))\n",
    "models.append((\"CART\", DecisionTreeClassifier(criterion = \"gini\", splitter = \"best\", \n",
    "                                              max_depth = None, min_samples_split = 2, min_samples_leaf = 1)))\n",
    "models.append((\"KNN\", KNeighborsClassifier(n_neighbors = 5, weights = \"uniform\", algorithm = \"auto\",\n",
    "                                leaf_size = 30, p = 2, metric = \"minkowski\")))\n",
    "models.append((\"NB-G\", GaussianNB()))\n",
    "# models.append((\"NB-B\", BernoulliNB()))\n",
    "# models.append((\"SVM-SVC\", SVC(gamma = \"auto\")))\n",
    "models.append((\"SVM-LSVC\", LinearSVC()))\n",
    "\n",
    "# Evaluate each model in turn\n",
    "results = []\n",
    "names = []\n",
    "for name, model in models:\n",
    "    rskf = RepeatedStratifiedKFold(n_splits = 10, n_repeats = 5, random_state = 11)\n",
    "    cv_results = cross_val_score(model, X_train, Y_train, cv = rskf, scoring = \"accuracy\")\n",
    "    results.append(cv_results)\n",
    "    names.append(name)\n",
    "    print(\"%s: %f (%f)\" % (name, cv_results.mean(), cv_results.std()))"
   ]
  },
  {
   "cell_type": "code",
   "execution_count": 32,
   "metadata": {},
   "outputs": [
    {
     "data": {
      "image/png": "[encoded data removed]",
      "text/plain": [
       "<Figure size 432x288 with 1 Axes>"
      ]
     },
     "metadata": {
      "needs_background": "light"
     },
     "output_type": "display_data"
    }
   ],
   "source": [
    "plt.boxplot(results, labels = names, notch = False, vert = True, whis = True)\n",
    "plt.title(\"Algorithm Comparision\")\n",
    "plt.show()"
   ]
  },
  {
   "cell_type": "code",
   "execution_count": 33,
   "metadata": {},
   "outputs": [
    {
     "name": "stdout",
     "output_type": "stream",
     "text": [
      "Response counts of label '0': 2025\n",
      "Response counts of label '1': 79\n"
     ]
    }
   ],
   "source": [
    "# Train Dataset balance study\n",
    "print(\"Response counts of label '0': {}\".format(sum(Y_train == 0)))\n",
    "print(\"Response counts of label '1': {}\".format(sum(Y_train == 1)))\n",
    "# (round(sum(Y_train == 1) / (sum(Y_train == 0) + sum(Y_train == 1)),2))*100"
   ]
  },
  {
   "cell_type": "markdown",
   "metadata": {},
   "source": [
    "##### As observed  above, the dataset is highly unbalanced. When training models on such datasets, class unbalance influences a learning algorithm during training by making decision rule biased towards the majority class and optimizes the predictions based on the majority class in the dataset. This is also evident from 99 % recall for label 0 and 7 % recall for label 1 in the evaluation performed above. There are three ways to deal with this issue:\n",
    "    1. Upsampling the minority class or downsampling the majority class.\n",
    "    2. Assign a larger penalty to wrong predictions from the minority class.\n",
    "    \n",
    "##### One of the major issues when dealing with unbalanced datasets relates to the metrics used to evaluate their model. Using simpler metrics like accuracy score can be misleading. In a dataset with highly unbalanced classes, the classifier will always “predicts” the most common class without performing any analysis of the features and it will have a high accuracy rate, obviously not the correct one."
   ]
  },
  {
   "cell_type": "markdown",
   "metadata": {},
   "source": [
    "### 1. Upsampling the minority class or downsampling the majority class -"
   ]
  },
  {
   "cell_type": "code",
   "execution_count": 34,
   "metadata": {},
   "outputs": [],
   "source": [
    "# SMOTE technique for upsampling the minority label (1 in our case) and \n",
    "# RandomUnderSampler technique for down-sampling the majority label (0 in our case) \n",
    "# will be used to deal with the data imbalance.\n",
    "\n",
    "smote = SMOTE(sampling_strategy = 0.25)\n",
    "under_sampling = RandomUnderSampler(sampling_strategy = 1, random_state = 21)\n",
    "\n",
    "steps = [('o', smote), ('u', under_sampling)]\n",
    "pipeline = Pipeline(steps=steps)\n",
    "\n",
    "# transform the dataset\n",
    "X_train_res, Y_train_res = pipeline.fit_resample(X_train, Y_train)"
   ]
  },
  {
   "cell_type": "code",
   "execution_count": 35,
   "metadata": {},
   "outputs": [
    {
     "name": "stdout",
     "output_type": "stream",
     "text": [
      "After OverSampling, counts of label '0': 506\n",
      "After OverSampling, counts of label '1': 506\n"
     ]
    }
   ],
   "source": [
    "# Train Dataset balance study after Over/Under sampling\n",
    "print(\"After OverSampling, counts of label '0': {}\".format(sum(Y_train_res == 0)))\n",
    "print(\"After OverSampling, counts of label '1': {}\".format(sum(Y_train_res == 1)))"
   ]
  },
  {
   "cell_type": "code",
   "execution_count": 36,
   "metadata": {},
   "outputs": [
    {
     "name": "stdout",
     "output_type": "stream",
     "text": [
      "LR: 0.715630 (0.044829)\n",
      "CART: 0.871943 (0.028265)\n",
      "KNN: 0.822937 (0.035525)\n",
      "NB-G: 0.686570 (0.034052)\n"
     ]
    },
    {
     "name": "stderr",
     "output_type": "stream",
     "text": [
      "C:\\Users\\ch065ba\\Anaconda3\\lib\\site-packages\\sklearn\\svm\\_base.py:985: ConvergenceWarning: Liblinear failed to converge, increase the number of iterations.\n",
      "  warnings.warn(\"Liblinear failed to converge, increase \"\n",
      "C:\\Users\\ch065ba\\Anaconda3\\lib\\site-packages\\sklearn\\svm\\_base.py:985: ConvergenceWarning: Liblinear failed to converge, increase the number of iterations.\n",
      "  warnings.warn(\"Liblinear failed to converge, increase \"\n",
      "C:\\Users\\ch065ba\\Anaconda3\\lib\\site-packages\\sklearn\\svm\\_base.py:985: ConvergenceWarning: Liblinear failed to converge, increase the number of iterations.\n",
      "  warnings.warn(\"Liblinear failed to converge, increase \"\n",
      "C:\\Users\\ch065ba\\Anaconda3\\lib\\site-packages\\sklearn\\svm\\_base.py:985: ConvergenceWarning: Liblinear failed to converge, increase the number of iterations.\n",
      "  warnings.warn(\"Liblinear failed to converge, increase \"\n",
      "C:\\Users\\ch065ba\\Anaconda3\\lib\\site-packages\\sklearn\\svm\\_base.py:985: ConvergenceWarning: Liblinear failed to converge, increase the number of iterations.\n",
      "  warnings.warn(\"Liblinear failed to converge, increase \"\n",
      "C:\\Users\\ch065ba\\Anaconda3\\lib\\site-packages\\sklearn\\svm\\_base.py:985: ConvergenceWarning: Liblinear failed to converge, increase the number of iterations.\n",
      "  warnings.warn(\"Liblinear failed to converge, increase \"\n",
      "C:\\Users\\ch065ba\\Anaconda3\\lib\\site-packages\\sklearn\\svm\\_base.py:985: ConvergenceWarning: Liblinear failed to converge, increase the number of iterations.\n",
      "  warnings.warn(\"Liblinear failed to converge, increase \"\n",
      "C:\\Users\\ch065ba\\Anaconda3\\lib\\site-packages\\sklearn\\svm\\_base.py:985: ConvergenceWarning: Liblinear failed to converge, increase the number of iterations.\n",
      "  warnings.warn(\"Liblinear failed to converge, increase \"\n",
      "C:\\Users\\ch065ba\\Anaconda3\\lib\\site-packages\\sklearn\\svm\\_base.py:985: ConvergenceWarning: Liblinear failed to converge, increase the number of iterations.\n",
      "  warnings.warn(\"Liblinear failed to converge, increase \"\n",
      "C:\\Users\\ch065ba\\Anaconda3\\lib\\site-packages\\sklearn\\svm\\_base.py:985: ConvergenceWarning: Liblinear failed to converge, increase the number of iterations.\n",
      "  warnings.warn(\"Liblinear failed to converge, increase \"\n",
      "C:\\Users\\ch065ba\\Anaconda3\\lib\\site-packages\\sklearn\\svm\\_base.py:985: ConvergenceWarning: Liblinear failed to converge, increase the number of iterations.\n",
      "  warnings.warn(\"Liblinear failed to converge, increase \"\n",
      "C:\\Users\\ch065ba\\Anaconda3\\lib\\site-packages\\sklearn\\svm\\_base.py:985: ConvergenceWarning: Liblinear failed to converge, increase the number of iterations.\n",
      "  warnings.warn(\"Liblinear failed to converge, increase \"\n",
      "C:\\Users\\ch065ba\\Anaconda3\\lib\\site-packages\\sklearn\\svm\\_base.py:985: ConvergenceWarning: Liblinear failed to converge, increase the number of iterations.\n",
      "  warnings.warn(\"Liblinear failed to converge, increase \"\n",
      "C:\\Users\\ch065ba\\Anaconda3\\lib\\site-packages\\sklearn\\svm\\_base.py:985: ConvergenceWarning: Liblinear failed to converge, increase the number of iterations.\n",
      "  warnings.warn(\"Liblinear failed to converge, increase \"\n",
      "C:\\Users\\ch065ba\\Anaconda3\\lib\\site-packages\\sklearn\\svm\\_base.py:985: ConvergenceWarning: Liblinear failed to converge, increase the number of iterations.\n",
      "  warnings.warn(\"Liblinear failed to converge, increase \"\n",
      "C:\\Users\\ch065ba\\Anaconda3\\lib\\site-packages\\sklearn\\svm\\_base.py:985: ConvergenceWarning: Liblinear failed to converge, increase the number of iterations.\n",
      "  warnings.warn(\"Liblinear failed to converge, increase \"\n",
      "C:\\Users\\ch065ba\\Anaconda3\\lib\\site-packages\\sklearn\\svm\\_base.py:985: ConvergenceWarning: Liblinear failed to converge, increase the number of iterations.\n",
      "  warnings.warn(\"Liblinear failed to converge, increase \"\n",
      "C:\\Users\\ch065ba\\Anaconda3\\lib\\site-packages\\sklearn\\svm\\_base.py:985: ConvergenceWarning: Liblinear failed to converge, increase the number of iterations.\n",
      "  warnings.warn(\"Liblinear failed to converge, increase \"\n",
      "C:\\Users\\ch065ba\\Anaconda3\\lib\\site-packages\\sklearn\\svm\\_base.py:985: ConvergenceWarning: Liblinear failed to converge, increase the number of iterations.\n",
      "  warnings.warn(\"Liblinear failed to converge, increase \"\n",
      "C:\\Users\\ch065ba\\Anaconda3\\lib\\site-packages\\sklearn\\svm\\_base.py:985: ConvergenceWarning: Liblinear failed to converge, increase the number of iterations.\n",
      "  warnings.warn(\"Liblinear failed to converge, increase \"\n",
      "C:\\Users\\ch065ba\\Anaconda3\\lib\\site-packages\\sklearn\\svm\\_base.py:985: ConvergenceWarning: Liblinear failed to converge, increase the number of iterations.\n",
      "  warnings.warn(\"Liblinear failed to converge, increase \"\n",
      "C:\\Users\\ch065ba\\Anaconda3\\lib\\site-packages\\sklearn\\svm\\_base.py:985: ConvergenceWarning: Liblinear failed to converge, increase the number of iterations.\n",
      "  warnings.warn(\"Liblinear failed to converge, increase \"\n",
      "C:\\Users\\ch065ba\\Anaconda3\\lib\\site-packages\\sklearn\\svm\\_base.py:985: ConvergenceWarning: Liblinear failed to converge, increase the number of iterations.\n",
      "  warnings.warn(\"Liblinear failed to converge, increase \"\n",
      "C:\\Users\\ch065ba\\Anaconda3\\lib\\site-packages\\sklearn\\svm\\_base.py:985: ConvergenceWarning: Liblinear failed to converge, increase the number of iterations.\n",
      "  warnings.warn(\"Liblinear failed to converge, increase \"\n",
      "C:\\Users\\ch065ba\\Anaconda3\\lib\\site-packages\\sklearn\\svm\\_base.py:985: ConvergenceWarning: Liblinear failed to converge, increase the number of iterations.\n",
      "  warnings.warn(\"Liblinear failed to converge, increase \"\n",
      "C:\\Users\\ch065ba\\Anaconda3\\lib\\site-packages\\sklearn\\svm\\_base.py:985: ConvergenceWarning: Liblinear failed to converge, increase the number of iterations.\n",
      "  warnings.warn(\"Liblinear failed to converge, increase \"\n",
      "C:\\Users\\ch065ba\\Anaconda3\\lib\\site-packages\\sklearn\\svm\\_base.py:985: ConvergenceWarning: Liblinear failed to converge, increase the number of iterations.\n",
      "  warnings.warn(\"Liblinear failed to converge, increase \"\n",
      "C:\\Users\\ch065ba\\Anaconda3\\lib\\site-packages\\sklearn\\svm\\_base.py:985: ConvergenceWarning: Liblinear failed to converge, increase the number of iterations.\n",
      "  warnings.warn(\"Liblinear failed to converge, increase \"\n",
      "C:\\Users\\ch065ba\\Anaconda3\\lib\\site-packages\\sklearn\\svm\\_base.py:985: ConvergenceWarning: Liblinear failed to converge, increase the number of iterations.\n",
      "  warnings.warn(\"Liblinear failed to converge, increase \"\n",
      "C:\\Users\\ch065ba\\Anaconda3\\lib\\site-packages\\sklearn\\svm\\_base.py:985: ConvergenceWarning: Liblinear failed to converge, increase the number of iterations.\n",
      "  warnings.warn(\"Liblinear failed to converge, increase \"\n",
      "C:\\Users\\ch065ba\\Anaconda3\\lib\\site-packages\\sklearn\\svm\\_base.py:985: ConvergenceWarning: Liblinear failed to converge, increase the number of iterations.\n",
      "  warnings.warn(\"Liblinear failed to converge, increase \"\n",
      "C:\\Users\\ch065ba\\Anaconda3\\lib\\site-packages\\sklearn\\svm\\_base.py:985: ConvergenceWarning: Liblinear failed to converge, increase the number of iterations.\n",
      "  warnings.warn(\"Liblinear failed to converge, increase \"\n",
      "C:\\Users\\ch065ba\\Anaconda3\\lib\\site-packages\\sklearn\\svm\\_base.py:985: ConvergenceWarning: Liblinear failed to converge, increase the number of iterations.\n",
      "  warnings.warn(\"Liblinear failed to converge, increase \"\n",
      "C:\\Users\\ch065ba\\Anaconda3\\lib\\site-packages\\sklearn\\svm\\_base.py:985: ConvergenceWarning: Liblinear failed to converge, increase the number of iterations.\n",
      "  warnings.warn(\"Liblinear failed to converge, increase \"\n",
      "C:\\Users\\ch065ba\\Anaconda3\\lib\\site-packages\\sklearn\\svm\\_base.py:985: ConvergenceWarning: Liblinear failed to converge, increase the number of iterations.\n",
      "  warnings.warn(\"Liblinear failed to converge, increase \"\n",
      "C:\\Users\\ch065ba\\Anaconda3\\lib\\site-packages\\sklearn\\svm\\_base.py:985: ConvergenceWarning: Liblinear failed to converge, increase the number of iterations.\n",
      "  warnings.warn(\"Liblinear failed to converge, increase \"\n",
      "C:\\Users\\ch065ba\\Anaconda3\\lib\\site-packages\\sklearn\\svm\\_base.py:985: ConvergenceWarning: Liblinear failed to converge, increase the number of iterations.\n",
      "  warnings.warn(\"Liblinear failed to converge, increase \"\n",
      "C:\\Users\\ch065ba\\Anaconda3\\lib\\site-packages\\sklearn\\svm\\_base.py:985: ConvergenceWarning: Liblinear failed to converge, increase the number of iterations.\n",
      "  warnings.warn(\"Liblinear failed to converge, increase \"\n",
      "C:\\Users\\ch065ba\\Anaconda3\\lib\\site-packages\\sklearn\\svm\\_base.py:985: ConvergenceWarning: Liblinear failed to converge, increase the number of iterations.\n",
      "  warnings.warn(\"Liblinear failed to converge, increase \"\n",
      "C:\\Users\\ch065ba\\Anaconda3\\lib\\site-packages\\sklearn\\svm\\_base.py:985: ConvergenceWarning: Liblinear failed to converge, increase the number of iterations.\n",
      "  warnings.warn(\"Liblinear failed to converge, increase \"\n"
     ]
    },
    {
     "name": "stderr",
     "output_type": "stream",
     "text": [
      "C:\\Users\\ch065ba\\Anaconda3\\lib\\site-packages\\sklearn\\svm\\_base.py:985: ConvergenceWarning: Liblinear failed to converge, increase the number of iterations.\n",
      "  warnings.warn(\"Liblinear failed to converge, increase \"\n",
      "C:\\Users\\ch065ba\\Anaconda3\\lib\\site-packages\\sklearn\\svm\\_base.py:985: ConvergenceWarning: Liblinear failed to converge, increase the number of iterations.\n",
      "  warnings.warn(\"Liblinear failed to converge, increase \"\n",
      "C:\\Users\\ch065ba\\Anaconda3\\lib\\site-packages\\sklearn\\svm\\_base.py:985: ConvergenceWarning: Liblinear failed to converge, increase the number of iterations.\n",
      "  warnings.warn(\"Liblinear failed to converge, increase \"\n",
      "C:\\Users\\ch065ba\\Anaconda3\\lib\\site-packages\\sklearn\\svm\\_base.py:985: ConvergenceWarning: Liblinear failed to converge, increase the number of iterations.\n",
      "  warnings.warn(\"Liblinear failed to converge, increase \"\n",
      "C:\\Users\\ch065ba\\Anaconda3\\lib\\site-packages\\sklearn\\svm\\_base.py:985: ConvergenceWarning: Liblinear failed to converge, increase the number of iterations.\n",
      "  warnings.warn(\"Liblinear failed to converge, increase \"\n"
     ]
    },
    {
     "name": "stdout",
     "output_type": "stream",
     "text": [
      "SVM-LSVC: 0.717412 (0.045665)\n"
     ]
    },
    {
     "name": "stderr",
     "output_type": "stream",
     "text": [
      "C:\\Users\\ch065ba\\Anaconda3\\lib\\site-packages\\sklearn\\svm\\_base.py:985: ConvergenceWarning: Liblinear failed to converge, increase the number of iterations.\n",
      "  warnings.warn(\"Liblinear failed to converge, increase \"\n",
      "C:\\Users\\ch065ba\\Anaconda3\\lib\\site-packages\\sklearn\\svm\\_base.py:985: ConvergenceWarning: Liblinear failed to converge, increase the number of iterations.\n",
      "  warnings.warn(\"Liblinear failed to converge, increase \"\n",
      "C:\\Users\\ch065ba\\Anaconda3\\lib\\site-packages\\sklearn\\svm\\_base.py:985: ConvergenceWarning: Liblinear failed to converge, increase the number of iterations.\n",
      "  warnings.warn(\"Liblinear failed to converge, increase \"\n"
     ]
    }
   ],
   "source": [
    "# Spot Check Algorithm\n",
    "models = []\n",
    "models.append((\"LR\", LogisticRegression(solver = \"liblinear\", multi_class = \"auto\")))\n",
    "models.append((\"CART\", DecisionTreeClassifier(criterion = \"entropy\", splitter = \"best\", \n",
    "                                              max_depth = None, min_samples_split = 2, min_samples_leaf = 1)))\n",
    "models.append((\"KNN\", KNeighborsClassifier(n_neighbors = 5, weights = \"uniform\", algorithm = \"auto\",\n",
    "                                leaf_size = 30, p = 2, metric = \"minkowski\")))\n",
    "models.append((\"NB-G\", GaussianNB()))\n",
    "# models.append((\"NB-B\", BernoulliNB()))\n",
    "# models.append((\"SVM\", SVC(gamma = \"auto\")))\n",
    "models.append((\"SVM-LSVC\", LinearSVC()))\n",
    "\n",
    "# Evaluate each model in turn\n",
    "results = []\n",
    "names = []\n",
    "for name, model in models:\n",
    "    rskf = RepeatedStratifiedKFold(n_splits = 10, n_repeats = 5, random_state = 11)\n",
    "    cv_results = cross_val_score(model, X_train_res, Y_train_res, cv = rskf, scoring = \"accuracy\")\n",
    "    results.append(cv_results)\n",
    "    names.append(name)\n",
    "    print(\"%s: %f (%f)\" % (name, cv_results.mean(), cv_results.std()))"
   ]
  },
  {
   "cell_type": "code",
   "execution_count": 37,
   "metadata": {},
   "outputs": [
    {
     "data": {
      "image/png": "[encoded data removed]",
      "text/plain": [
       "<Figure size 432x288 with 1 Axes>"
      ]
     },
     "metadata": {
      "needs_background": "light"
     },
     "output_type": "display_data"
    }
   ],
   "source": [
    "plt.boxplot(results, labels = names, notch = False, vert = True, whis = True)\n",
    "plt.title(\"Algorithm Comparision\")\n",
    "plt.show()"
   ]
  },
  {
   "cell_type": "markdown",
   "metadata": {},
   "source": [
    "##### As observed above, the Decision Tree is observed to be the best model with highest accuracy and least variation. Since the dataset is imbalanced dataset, we will further analyse each models based on recall and F1 score."
   ]
  },
  {
   "cell_type": "code",
   "execution_count": 2,
   "metadata": {},
   "outputs": [
    {
     "ename": "NameError",
     "evalue": "name 'LogisticRegression' is not defined",
     "output_type": "error",
     "traceback": [
      "\u001b[1;31m---------------------------------------------------------------------------\u001b[0m",
      "\u001b[1;31mNameError\u001b[0m                                 Traceback (most recent call last)",
      "\u001b[1;32m<ipython-input-2-06a357111d81>\u001b[0m in \u001b[0;36m<module>\u001b[1;34m\u001b[0m\n\u001b[0;32m      1\u001b[0m \u001b[1;31m# Make predictions on validation dataset\u001b[0m\u001b[1;33m\u001b[0m\u001b[1;33m\u001b[0m\u001b[1;33m\u001b[0m\u001b[0m\n\u001b[1;32m----> 2\u001b[1;33m \u001b[0mmodel\u001b[0m \u001b[1;33m=\u001b[0m \u001b[0mLogisticRegression\u001b[0m\u001b[1;33m(\u001b[0m\u001b[0msolver\u001b[0m \u001b[1;33m=\u001b[0m \u001b[1;34m\"liblinear\"\u001b[0m\u001b[1;33m,\u001b[0m \u001b[0mmulti_class\u001b[0m \u001b[1;33m=\u001b[0m \u001b[1;34m\"auto\"\u001b[0m\u001b[1;33m)\u001b[0m\u001b[1;33m\u001b[0m\u001b[1;33m\u001b[0m\u001b[0m\n\u001b[0m\u001b[0;32m      3\u001b[0m \u001b[1;33m\u001b[0m\u001b[0m\n\u001b[0;32m      4\u001b[0m \u001b[1;31m# model = LogisticRegression()\u001b[0m\u001b[1;33m\u001b[0m\u001b[1;33m\u001b[0m\u001b[1;33m\u001b[0m\u001b[0m\n\u001b[0;32m      5\u001b[0m \u001b[0mmodel\u001b[0m\u001b[1;33m.\u001b[0m\u001b[0mfit\u001b[0m\u001b[1;33m(\u001b[0m\u001b[0mX_train_res\u001b[0m\u001b[1;33m,\u001b[0m \u001b[0mY_train_res\u001b[0m\u001b[1;33m)\u001b[0m\u001b[1;33m\u001b[0m\u001b[1;33m\u001b[0m\u001b[0m\n",
      "\u001b[1;31mNameError\u001b[0m: name 'LogisticRegression' is not defined"
     ]
    }
   ],
   "source": [
    "# Make predictions on validation dataset\n",
    "model = LogisticRegression(solver = \"liblinear\", multi_class = \"auto\")\n",
    "\n",
    "# model = LogisticRegression()\n",
    "model.fit(X_train_res, Y_train_res)\n",
    "predictions = model.predict(X_test)\n",
    "\n",
    "# Evaluate predictions\n",
    "print(\"Logistic Regression\")\n",
    "print(accuracy_score(Y_test, predictions))\n",
    "print(confusion_matrix(Y_test, predictions))\n",
    "print(classification_report(Y_test, predictions))"
   ]
  },
  {
   "cell_type": "code",
   "execution_count": 39,
   "metadata": {},
   "outputs": [
    {
     "name": "stdout",
     "output_type": "stream",
     "text": [
      "Decision Tree Classifier\n",
      "0.8648947951273532\n",
      "[[773  95]\n",
      " [ 27   8]]\n",
      "              precision    recall  f1-score   support\n",
      "\n",
      "         0.0       0.97      0.89      0.93       868\n",
      "         1.0       0.08      0.23      0.12        35\n",
      "\n",
      "    accuracy                           0.86       903\n",
      "   macro avg       0.52      0.56      0.52       903\n",
      "weighted avg       0.93      0.86      0.90       903\n",
      "\n"
     ]
    }
   ],
   "source": [
    "# Make predictions on validation dataset\n",
    "model = DecisionTreeClassifier(criterion = \"gini\", splitter = \"best\", \n",
    "                               max_depth = None, min_samples_split = 2, min_samples_leaf = 1)\n",
    "\n",
    "# model = DecisionTreeClassifier()\n",
    "model.fit(X_train_res, Y_train_res)\n",
    "predictions = model.predict(X_test)\n",
    "\n",
    "# Evaluate predictions\n",
    "print(\"Decision Tree Classifier\")\n",
    "print(accuracy_score(Y_test, predictions))\n",
    "print(confusion_matrix(Y_test, predictions))\n",
    "print(classification_report(Y_test, predictions))"
   ]
  },
  {
   "cell_type": "code",
   "execution_count": 40,
   "metadata": {},
   "outputs": [
    {
     "name": "stdout",
     "output_type": "stream",
     "text": [
      "K-Neighbors Classifier\n",
      "0.7353266888150609\n",
      "[[649 219]\n",
      " [ 20  15]]\n",
      "              precision    recall  f1-score   support\n",
      "\n",
      "         0.0       0.97      0.75      0.84       868\n",
      "         1.0       0.06      0.43      0.11        35\n",
      "\n",
      "    accuracy                           0.74       903\n",
      "   macro avg       0.52      0.59      0.48       903\n",
      "weighted avg       0.93      0.74      0.82       903\n",
      "\n"
     ]
    }
   ],
   "source": [
    "# Make predictions on validation dataset\n",
    "model = KNeighborsClassifier(n_neighbors = 5, weights = \"uniform\", algorithm = \"auto\",\n",
    "                                leaf_size = 30, p = 2, metric = \"minkowski\")\n",
    "\n",
    "# model = KNN()\n",
    "model.fit(X_train_res, Y_train_res)\n",
    "predictions = model.predict(X_test)\n",
    "\n",
    "# Evaluate predictions\n",
    "print(\"K-Neighbors Classifier\")\n",
    "print(accuracy_score(Y_test, predictions))\n",
    "print(confusion_matrix(Y_test, predictions))\n",
    "print(classification_report(Y_test, predictions))"
   ]
  },
  {
   "cell_type": "code",
   "execution_count": 41,
   "metadata": {},
   "outputs": [
    {
     "name": "stdout",
     "output_type": "stream",
     "text": [
      "Gaussian Naïve Bayes Classifier\n",
      "0.5370985603543743\n",
      "[[457 411]\n",
      " [  7  28]]\n",
      "              precision    recall  f1-score   support\n",
      "\n",
      "         0.0       0.98      0.53      0.69       868\n",
      "         1.0       0.06      0.80      0.12        35\n",
      "\n",
      "    accuracy                           0.54       903\n",
      "   macro avg       0.52      0.66      0.40       903\n",
      "weighted avg       0.95      0.54      0.66       903\n",
      "\n"
     ]
    }
   ],
   "source": [
    "# Make predictions on validation dataset\n",
    "model = GaussianNB()\n",
    "\n",
    "# model = GaussianNB()\n",
    "model.fit(X_train_res, Y_train_res)\n",
    "predictions = model.predict(X_test)\n",
    "\n",
    "# Evaluate predictions\n",
    "print(\"Gaussian Naïve Bayes Classifier\")\n",
    "print(accuracy_score(Y_test, predictions))\n",
    "print(confusion_matrix(Y_test, predictions))\n",
    "print(classification_report(Y_test, predictions))"
   ]
  },
  {
   "cell_type": "code",
   "execution_count": 42,
   "metadata": {},
   "outputs": [
    {
     "name": "stdout",
     "output_type": "stream",
     "text": [
      "Linear SVC\n",
      "0.717607973421927\n",
      "[[625 243]\n",
      " [ 12  23]]\n",
      "              precision    recall  f1-score   support\n",
      "\n",
      "         0.0       0.98      0.72      0.83       868\n",
      "         1.0       0.09      0.66      0.15        35\n",
      "\n",
      "    accuracy                           0.72       903\n",
      "   macro avg       0.53      0.69      0.49       903\n",
      "weighted avg       0.95      0.72      0.80       903\n",
      "\n"
     ]
    },
    {
     "name": "stderr",
     "output_type": "stream",
     "text": [
      "C:\\Users\\ch065ba\\Anaconda3\\lib\\site-packages\\sklearn\\svm\\_base.py:985: ConvergenceWarning: Liblinear failed to converge, increase the number of iterations.\n",
      "  warnings.warn(\"Liblinear failed to converge, increase \"\n"
     ]
    }
   ],
   "source": [
    "# Make predictions on validation dataset\n",
    "model = LinearSVC()\n",
    "\n",
    "# Model = LinearSVC()\n",
    "model.fit(X_train_res, Y_train_res)\n",
    "predictions = model.predict(X_test)\n",
    "\n",
    "# Evaluate predictions\n",
    "print(\"Linear SVC\")\n",
    "print(accuracy_score(Y_test, predictions))\n",
    "print(confusion_matrix(Y_test, predictions))\n",
    "print(classification_report(Y_test, predictions))"
   ]
  },
  {
   "cell_type": "markdown",
   "metadata": {},
   "source": [
    "##### Analyzing further based on different parameters - \"accuracy\", \"precision\", \"recall\" and \"f1-score\", it is observed that the Logistic Regression is the best model. We will use this algorithm for further improvement possibility and analysis.\n",
    "\n",
    "##### In addition, weightage based penalty approach will be investigated to improve on the hyperparameters of the model because of the imbalanced dataset to compare with the SMOTE upsampling method used earlier."
   ]
  },
  {
   "cell_type": "markdown",
   "metadata": {},
   "source": [
    "### 2. Assign a larger penalty to wrong predictions from the minority class."
   ]
  },
  {
   "cell_type": "markdown",
   "metadata": {},
   "source": [
    "##### As a second option to deal with imbalanced dataset, we are using weights method which mainly assigns penalty to wrong predictions. In our set, label distribution is 1:24 so we can specify weights as inverse of label distribution. For majority class, will use weight of 1 and for minority class, will use weight of 24. So the penalty of wrong prediction of minority class would be 24 times more severe than wrong prediction of majority class. Moreover, with this class-weight values, we would expect our model to perform better then the default one i.e. previous model."
   ]
  },
  {
   "cell_type": "code",
   "execution_count": 43,
   "metadata": {},
   "outputs": [
    {
     "name": "stdout",
     "output_type": "stream",
     "text": [
      "Logistic Regression before SMOTE\n",
      "Accuracy Score: 0.9612403100775194\n",
      "Confusion Matrix: \n",
      "[[868   0]\n",
      " [ 35   0]]\n",
      "              precision    recall  f1-score   support\n",
      "\n",
      "         0.0       0.96      1.00      0.98       868\n",
      "         1.0       0.00      0.00      0.00        35\n",
      "\n",
      "    accuracy                           0.96       903\n",
      "   macro avg       0.48      0.50      0.49       903\n",
      "weighted avg       0.92      0.96      0.94       903\n",
      "\n",
      "Area Under Curve: 0.5\n",
      "Recall score: 0.0\n"
     ]
    },
    {
     "name": "stderr",
     "output_type": "stream",
     "text": [
      "C:\\Users\\ch065ba\\Anaconda3\\lib\\site-packages\\sklearn\\metrics\\_classification.py:1248: UndefinedMetricWarning: Precision and F-score are ill-defined and being set to 0.0 in labels with no predicted samples. Use `zero_division` parameter to control this behavior.\n",
      "  _warn_prf(average, modifier, msg_start, len(result))\n",
      "C:\\Users\\ch065ba\\Anaconda3\\lib\\site-packages\\sklearn\\metrics\\_classification.py:1248: UndefinedMetricWarning: Precision and F-score are ill-defined and being set to 0.0 in labels with no predicted samples. Use `zero_division` parameter to control this behavior.\n",
      "  _warn_prf(average, modifier, msg_start, len(result))\n",
      "C:\\Users\\ch065ba\\Anaconda3\\lib\\site-packages\\sklearn\\metrics\\_classification.py:1248: UndefinedMetricWarning: Precision and F-score are ill-defined and being set to 0.0 in labels with no predicted samples. Use `zero_division` parameter to control this behavior.\n",
      "  _warn_prf(average, modifier, msg_start, len(result))\n"
     ]
    }
   ],
   "source": [
    "# Define model\n",
    "logreg1 = LogisticRegression(random_state = 13, class_weight = None)\n",
    "\n",
    "# Fit the model\n",
    "logreg1.fit(X_train,Y_train)\n",
    "\n",
    "# Test the model\n",
    "Y_pred = logreg1.predict(X_test)\n",
    "\n",
    "# Evaluate predictions\n",
    "print(\"Logistic Regression before SMOTE\")\n",
    "print(f'Accuracy Score: {accuracy_score(Y_test, Y_pred)}')\n",
    "print(f'Confusion Matrix: \\n{confusion_matrix(Y_test, Y_pred)}')\n",
    "print(classification_report(Y_test, Y_pred))\n",
    "print(f'Area Under Curve: {roc_auc_score(Y_test, Y_pred)}')\n",
    "print(f'Recall score: {recall_score(Y_test, Y_pred)}')"
   ]
  },
  {
   "cell_type": "code",
   "execution_count": 44,
   "metadata": {},
   "outputs": [
    {
     "name": "stdout",
     "output_type": "stream",
     "text": [
      "Accuracy Score: 0.22148394241417496\n",
      "Confusion Matrix: \n",
      "[[167 701]\n",
      " [  2  33]]\n",
      "              precision    recall  f1-score   support\n",
      "\n",
      "         0.0       0.99      0.19      0.32       868\n",
      "         1.0       0.04      0.94      0.09        35\n",
      "\n",
      "    accuracy                           0.22       903\n",
      "   macro avg       0.52      0.57      0.20       903\n",
      "weighted avg       0.95      0.22      0.31       903\n",
      "\n",
      "Area Under Curve: 0.567626728110599\n",
      "Recall score: 0.9428571428571428\n"
     ]
    }
   ],
   "source": [
    "# Define class weights\n",
    "w = {0:1, 1:99}\n",
    "\n",
    "# Defining the model\n",
    "logreg2 = LogisticRegression(random_state=13, class_weight=w)\n",
    "\n",
    "# Fit the model\n",
    "logreg2.fit(X_train,Y_train)\n",
    "\n",
    "# Test the model\n",
    "Y_pred = logreg2.predict(X_test)\n",
    "\n",
    "# Evaluate predictions\n",
    "print(f'Accuracy Score: {accuracy_score(Y_test, Y_pred)}')\n",
    "print(f'Confusion Matrix: \\n{confusion_matrix(Y_test, Y_pred)}')\n",
    "print(classification_report(Y_test, Y_pred))\n",
    "print(f'Area Under Curve: {roc_auc_score(Y_test, Y_pred)}')\n",
    "print(f'Recall score: {recall_score(Y_test, Y_pred)}')"
   ]
  },
  {
   "cell_type": "markdown",
   "metadata": {},
   "source": [
    "##### Instead of initially defined weigths, list of weights will be considered to evaluate the most optimized hyperparameter to identify the improvement opportunity in the model."
   ]
  },
  {
   "cell_type": "code",
   "execution_count": 45,
   "metadata": {},
   "outputs": [
    {
     "name": "stdout",
     "output_type": "stream",
     "text": [
      "Best score: 0.22142857142857142 with param: {'C': 1.0, 'class_weight': {0: 1.0, 1: 10}, 'fit_intercept': True, 'penalty': 'l2'}\n"
     ]
    },
    {
     "name": "stderr",
     "output_type": "stream",
     "text": [
      "C:\\Users\\ch065ba\\Anaconda3\\lib\\site-packages\\sklearn\\model_selection\\_search.py:922: UserWarning: One or more of the test scores are non-finite: [       nan 0.07271872        nan ... 0.08348403        nan 0.08500001]\n",
      "  warnings.warn(\n"
     ]
    }
   ],
   "source": [
    "# Define hyperparameters\n",
    "w = [{0:0.001,1:1.0}, {0:0.001,1:10}, {0:0.001,1:20}, {0:0.001,1:25}, {0:0.001,1:50}, {0:0.001,1:99},\n",
    "     {0:0.01,1:1.0}, {0:0.01,1:10}, {0:0.01,1:20}, {0:0.01,1:25}, {0:0.01,1:50}, {0:0.01,1:99},  \n",
    "     {0:0.1,1:1.0}, {0:0.1,1:10}, {0:0.1,1:20}, {0:0.1,1:25}, {0:0.1,1:50}, {0:0.1,1:99}, \n",
    "     {0:1.0,1:1.0}, {0:1.0,1:10}, {0:1.0,1:20}, {0:1.0,1:25}, {0:1.0,1:50}, {0:1.0,1:99} ]\n",
    "crange = np.arange(0.5, 20.0, 0.5)\n",
    "hyperparam_grid = {\"class_weight\": w,\n",
    "                   \"penalty\": [\"l1\", \"l2\"],\n",
    "                   \"C\": crange,\n",
    "                   \"fit_intercept\": [True, False]  }\n",
    "\n",
    "# logistic model classifier\n",
    "logreg3 = LogisticRegression(random_state = 13)\n",
    "\n",
    "# Define evaluation procedure\n",
    "grid = GridSearchCV(logreg3, hyperparam_grid, scoring = \"f1\", cv = 100, n_jobs = -1, refit = True)\n",
    "grid.fit(X,Y)\n",
    "print(f'Best score: {grid.best_score_} with param: {grid.best_params_}')"
   ]
  },
  {
   "cell_type": "markdown",
   "metadata": {},
   "source": [
    "##### As obesrved, 1.0:10 weight ratio is identified as the penalty hyperparameters giving the best \"f1 score\" among the list of input weights. We will consider these result as input parameters to improve the model performance."
   ]
  },
  {
   "cell_type": "code",
   "execution_count": 46,
   "metadata": {},
   "outputs": [
    {
     "name": "stdout",
     "output_type": "stream",
     "text": [
      "Logistic Regression after Class Weight\n",
      "Accuracy Score: 0.9114064230343301\n",
      "Confusion Matrix: \n",
      "[[811  57]\n",
      " [ 23  12]]\n",
      "              precision    recall  f1-score   support\n",
      "\n",
      "         0.0       0.97      0.93      0.95       868\n",
      "         1.0       0.17      0.34      0.23        35\n",
      "\n",
      "    accuracy                           0.91       903\n",
      "   macro avg       0.57      0.64      0.59       903\n",
      "weighted avg       0.94      0.91      0.93       903\n",
      "\n",
      "Area Under Curve: 0.6385944700460829\n",
      "Recall score: 0.34285714285714286\n"
     ]
    }
   ],
   "source": [
    "# Define model\n",
    "logreg3 = LogisticRegression(random_state = 13, C = 1.0, fit_intercept = True, penalty = 'l2', class_weight = {0: 1.0, 1: 10} )\n",
    "\n",
    "# fit it\n",
    "logreg3.fit(X_train,Y_train)\n",
    "\n",
    "# test\n",
    "Y_pred = logreg3.predict(X_test)\n",
    "\n",
    "# Evaluate predictions\n",
    "print(\"Logistic Regression after Class Weight\")\n",
    "print(f'Accuracy Score: {accuracy_score(Y_test, Y_pred)}')\n",
    "print(f'Confusion Matrix: \\n{confusion_matrix(Y_test, Y_pred)}')\n",
    "print(classification_report(Y_test, Y_pred))\n",
    "print(f'Area Under Curve: {roc_auc_score(Y_test, Y_pred)}')\n",
    "print(f'Recall score: {recall_score(Y_test, Y_pred)}')"
   ]
  },
  {
   "cell_type": "markdown",
   "metadata": {},
   "source": [
    "##### As observed above, the accuracy is observed to be improved compared to initial (without under/over sampled training) dataset and the one observed after SMOTE technique. Since, the \"recall\" and \"f1-score\" for label \"0\" is still low, no further improvement in the model is feasible. Thus, we will consider Logistic Regression model with the above parameters for further analysis."
   ]
  },
  {
   "cell_type": "code",
   "execution_count": 47,
   "metadata": {},
   "outputs": [
    {
     "data": {
      "image/png": "[encoded data removed]",
      "text/plain": [
       "<Figure size 432x288 with 1 Axes>"
      ]
     },
     "metadata": {
      "needs_background": "light"
     },
     "output_type": "display_data"
    },
    {
     "data": {
      "text/html": [
       "<div>\n",
       "<style scoped>\n",
       "    .dataframe tbody tr th:only-of-type {\n",
       "        vertical-align: middle;\n",
       "    }\n",
       "\n",
       "    .dataframe tbody tr th {\n",
       "        vertical-align: top;\n",
       "    }\n",
       "\n",
       "    .dataframe thead th {\n",
       "        text-align: right;\n",
       "    }\n",
       "</style>\n",
       "<table border=\"1\" class=\"dataframe\">\n",
       "  <thead>\n",
       "    <tr style=\"text-align: right;\">\n",
       "      <th></th>\n",
       "      <th>feature</th>\n",
       "      <th>feature_importance</th>\n",
       "    </tr>\n",
       "  </thead>\n",
       "  <tbody>\n",
       "    <tr>\n",
       "      <th>9</th>\n",
       "      <td>same_address</td>\n",
       "      <td>1.785364</td>\n",
       "    </tr>\n",
       "    <tr>\n",
       "      <th>4</th>\n",
       "      <td>pcp_lookback</td>\n",
       "      <td>1.592958</td>\n",
       "    </tr>\n",
       "    <tr>\n",
       "      <th>8</th>\n",
       "      <td>same_language</td>\n",
       "      <td>0.670102</td>\n",
       "    </tr>\n",
       "    <tr>\n",
       "      <th>0</th>\n",
       "      <td>distance</td>\n",
       "      <td>0.450982</td>\n",
       "    </tr>\n",
       "    <tr>\n",
       "      <th>1</th>\n",
       "      <td>visit_count</td>\n",
       "      <td>0.417406</td>\n",
       "    </tr>\n",
       "    <tr>\n",
       "      <th>5</th>\n",
       "      <td>family_assignment</td>\n",
       "      <td>0.285215</td>\n",
       "    </tr>\n",
       "    <tr>\n",
       "      <th>6</th>\n",
       "      <td>is_ped</td>\n",
       "      <td>0.155418</td>\n",
       "    </tr>\n",
       "    <tr>\n",
       "      <th>2</th>\n",
       "      <td>tier</td>\n",
       "      <td>0.089836</td>\n",
       "    </tr>\n",
       "    <tr>\n",
       "      <th>3</th>\n",
       "      <td>fqhc</td>\n",
       "      <td>0.072437</td>\n",
       "    </tr>\n",
       "    <tr>\n",
       "      <th>7</th>\n",
       "      <td>same_gender</td>\n",
       "      <td>0.018001</td>\n",
       "    </tr>\n",
       "  </tbody>\n",
       "</table>\n",
       "</div>"
      ],
      "text/plain": [
       "             feature  feature_importance\n",
       "9       same_address            1.785364\n",
       "4       pcp_lookback            1.592958\n",
       "8      same_language            0.670102\n",
       "0           distance            0.450982\n",
       "1        visit_count            0.417406\n",
       "5  family_assignment            0.285215\n",
       "6             is_ped            0.155418\n",
       "2               tier            0.089836\n",
       "3               fqhc            0.072437\n",
       "7        same_gender            0.018001"
      ]
     },
     "execution_count": 47,
     "metadata": {},
     "output_type": "execute_result"
    }
   ],
   "source": [
    "# Get importance\n",
    "importance = logreg3.coef_[0]\n",
    "\n",
    "# Plot feature importance\n",
    "plt.bar([x for x in range(len(importance))], importance)\n",
    "plt.show()\n",
    "\n",
    "features = data_transformed3.drop([\"outcome\"], axis = 1)\n",
    "\n",
    "feature_importance = pd.DataFrame({'feature': list(features.columns), 'feature_importance': [abs(i) for i in importance]})\n",
    "feature_importance.sort_values('feature_importance', ascending = False)"
   ]
  },
  {
   "cell_type": "code",
   "execution_count": 48,
   "metadata": {},
   "outputs": [],
   "source": [
    "# data_transformed4 = data_transformed3.copy(deep = True)\n",
    "# data_transformed4 = data_transformed[[\"outcome\", \"same_address\", \"pcp_lookback\", \"same_language\", \"distance\", \"visit_count\" ]]"
   ]
  },
  {
   "cell_type": "markdown",
   "metadata": {},
   "source": [
    "## Recommendations -\n",
    "#### 1. “pcp_lookback”: If the provider was not the member primary care provider before, it is very likely that the member would opt for a change\n",
    "#### 2. “same_address”: Out of people who opted for a change, most of them prefer the re-assigned provider to not have same address as the provider pre-assigned\n",
    "#### 3. “same_language”: If the Provider and member do not speak the same language, it is very likely that the member would request for a change\n",
    "#### 4. “distance”: This is an intriguing observation, members who stay closer to the provider opt for a change.\n",
    "#### 5. “visit_count”: If the member visit count is less, then it is very likely that the member would request for a change."
   ]
  }
 ],
 "metadata": {
  "kernelspec": {
   "display_name": "Python 3",
   "language": "python",
   "name": "python3"
  },
  "language_info": {
   "codemirror_mode": {
    "name": "ipython",
    "version": 3
   },
   "file_extension": ".py",
   "mimetype": "text/x-python",
   "name": "python",
   "nbconvert_exporter": "python",
   "pygments_lexer": "ipython3",
   "version": "3.8.5"
  }
 },
 "nbformat": 4,
 "nbformat_minor": 4
}
